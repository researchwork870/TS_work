{
 "cells": [
  {
   "cell_type": "markdown",
   "source": [
    "# Time Series Forecasting - Autoregressive Models with Extra Regressors"
   ],
   "metadata": {}
  },
  {
   "cell_type": "markdown",
   "source": [
    "What Is a ARIMAX, SARIMAX Model?\n",
    "\n",
    "Article : https://365datascience.com/tutorials/python-tutorials/sarimax/"
   ],
   "metadata": {}
  },
  {
   "cell_type": "code",
   "execution_count": null,
   "source": [
    "import pandas as pd \r\n",
    "import numpy as np \r\n",
    "import matplotlib.pyplot as plt\r\n",
    "import datetime\r\n",
    "import math\r\n",
    "import warnings\r\n",
    "import pmdarima as pmd\r\n",
    "from sklearn.metrics import mean_squared_error\r\n",
    "from math import sqrt\r\n",
    "from statsmodels.tsa.arima_model import ARMA, ARIMA\r\n",
    "from statsmodels.tsa.statespace.sarimax import SARIMAX"
   ],
   "outputs": [],
   "metadata": {}
  },
  {
   "cell_type": "code",
   "execution_count": null,
   "source": [
    "# In order to use this notebook for univarate time series analysis :-\r\n",
    "# 1) The primary requirement is not to have missing values or categorial(string) data for time_dependent variable \r\n",
    "#    and time_column.\r\n",
    "# 2) This cell requires information on file_name (only csv), time_dependent_variable, time_column, date_time format (frmt)\r\n",
    "#    and resample grain(X). After filling the required information correctly, you can run all the cells (Cell ---> Run All)\r\n",
    "# 3) Example :-\r\n",
    "#   file_name               = \"JetRail Avg Hourly Traffic Data - 2012-2013.csv\"\r\n",
    "#   time_dependent_variable = \"Count\"    (column name in your dataset)\r\n",
    "#   time_column             = \"Datetime\" (column name in your dataset)\r\n",
    "#   frmt                    = \"%Y-%m-%d\"\r\n",
    "#   X                       = \"D\" \r\n",
    "file_name = \"Monthly Production of Chocolate - Australia.csv\"\r\n",
    "time_dependent_variable = \"Volume\"\r\n",
    "time_column = \"Month\"\r\n",
    "frmt =  '%Y-%m'\r\n",
    "Resample_grain = \"M\"\r\n",
    "split= .9          #train and test split"
   ],
   "outputs": [],
   "metadata": {}
  },
  {
   "cell_type": "markdown",
   "source": [
    "### Reading the csv file"
   ],
   "metadata": {}
  },
  {
   "cell_type": "code",
   "execution_count": null,
   "source": [
    "def data(method = \"csv\"):\r\n",
    "    df = pd.read_csv(file_name, parse_dates= True)\r\n",
    "    df[time_column] = pd.to_datetime(df[time_column],format=frmt) \r\n",
    "    df.index = df[time_column]\r\n",
    "    df = df.resample(Resample_grain).mean()\r\n",
    "    df.reset_index(inplace= True)\r\n",
    "    return df\r\n",
    "df = data()"
   ],
   "outputs": [],
   "metadata": {}
  },
  {
   "cell_type": "markdown",
   "source": [
    "### Splitting the data into train and test"
   ],
   "metadata": {}
  },
  {
   "cell_type": "code",
   "execution_count": null,
   "source": [
    "def train_test_split_perc(df):\r\n",
    "    total_size=len(df)\r\n",
    "    train_size=math.floor(split*total_size)  #(70% Dataset)\r\n",
    "    train=df.head(train_size)\r\n",
    "    test=df.tail(len(df) -train_size)\r\n",
    "    return train, test"
   ],
   "outputs": [],
   "metadata": {}
  },
  {
   "cell_type": "code",
   "execution_count": null,
   "source": [
    "def train_test_split_date(df, split_date):\r\n",
    "    split_date = '2017-01-01'\r\n",
    "    train = df.loc[df.index <= split_date].copy()\r\n",
    "    test = df.loc[df.index > split_date].copy()\r\n",
    "    return train, test"
   ],
   "outputs": [],
   "metadata": {}
  },
  {
   "cell_type": "markdown",
   "source": [
    "### Metrics"
   ],
   "metadata": {}
  },
  {
   "cell_type": "markdown",
   "source": [
    "Probabilistic Model Selection with AIC/BIC in Python\n",
    "\n",
    "https://medium.com/analytics-vidhya/probabilistic-model-selection-with-aic-bic-in-python-f8471d6add32#:~:text=AIC%20and%20BIC%20techniques%20can%20be%20implemented%20in,statsmodels.formula.api%20provides%20a%20direct%20approach%20to%20compute%20aic%2Fbic."
   ],
   "metadata": {}
  },
  {
   "cell_type": "code",
   "execution_count": null,
   "source": [
    "from sklearn import metrics\r\n",
    "\r\n",
    "def timeseries_evaluation_metrics_func(y_true, y_pred):\r\n",
    "    print('Evaluation metric results:-')\r\n",
    "    def mean_absolute_percentage_error(y_true, y_pred):\r\n",
    "        y_true, y_pred = np.array(y_true), np.array(y_pred)\r\n",
    "        return np.mean(np.abs((y_true - y_pred) / y_true)) * 100\r\n",
    "    print(f'MSE is : {metrics.mean_squared_error(y_true, y_pred)}')\r\n",
    "    print(f'MAE is : {metrics.mean_absolute_error(y_true, y_pred)}')\r\n",
    "    print(f'MAPE is : {mean_absolute_percentage_error(y_true,y_pred)}')\r\n",
    "    print(f'R2 is : {metrics.r2_score(y_true, y_pred)}')\r\n",
    "    print(f'RMSE is : {np.sqrt(metrics.mean_squared_error(y_true, y_pred))}',end='\\n\\n')"
   ],
   "outputs": [],
   "metadata": {}
  },
  {
   "cell_type": "code",
   "execution_count": null,
   "source": [
    " def plot(method):\r\n",
    "    plt.figure(figsize=(12,8))\r\n",
    "    plt.plot(train[time_column], train[time_dependent_variable], label='Train')\r\n",
    "    plt.plot(test[time_column],test[time_dependent_variable], label='Test')\r\n",
    "    plt.plot(y_hat[time_column],y_hat[method], label= method +' forecast')\r\n",
    "    plt.legend(loc='best')\r\n",
    "    plt.title(method + ' forecast')\r\n",
    "    plt.show()\r\n",
    "    timeseries_evaluation_metrics_func(y_hat[time_dependent_variable], y_hat[method])\r\n"
   ],
   "outputs": [],
   "metadata": {}
  },
  {
   "cell_type": "markdown",
   "source": [
    "## Add your exogeneous variables "
   ],
   "metadata": {}
  },
  {
   "cell_type": "code",
   "execution_count": null,
   "source": [
    "def date_features(df):\r\n",
    "    df['year'] = df[time_column].dt.year\r\n",
    "    df['quarter'] = df[time_column].dt.quarter\r\n",
    "    df['month'] = df[time_column].dt.month\r\n",
    "    df['week_day'] = df[time_column].dt.weekday\r\n",
    "    return df\r\n",
    "df= date_features(df)"
   ],
   "outputs": [],
   "metadata": {}
  },
  {
   "cell_type": "code",
   "execution_count": null,
   "source": [
    "df.head()"
   ],
   "outputs": [],
   "metadata": {}
  },
  {
   "cell_type": "markdown",
   "source": [
    "### columns reorder with extra regressors"
   ],
   "metadata": {}
  },
  {
   "cell_type": "markdown",
   "source": [
    "https://stackoverflow.com/questions/35321812/move-column-in-pandas-dataframe \n",
    "This function will reorder your columns with time column as first column and time dependent variable column as the last column"
   ],
   "metadata": {}
  },
  {
   "cell_type": "code",
   "execution_count": null,
   "source": [
    "df.columns"
   ],
   "outputs": [],
   "metadata": {}
  },
  {
   "cell_type": "code",
   "execution_count": null,
   "source": [
    "[ col for col in df.columns if col not in [time_column, time_dependent_variable]]"
   ],
   "outputs": [],
   "metadata": {}
  },
  {
   "cell_type": "code",
   "execution_count": null,
   "source": [
    "def column_reorder(df):\r\n",
    "    df = df[[time_column] + \r\n",
    "        [ col for col in df.columns if col not in [time_column, time_dependent_variable]] + \r\n",
    "        [time_dependent_variable]]\r\n",
    "    return df\r\n",
    "df = column_reorder(df)\r\n",
    "df.head()"
   ],
   "outputs": [],
   "metadata": {}
  },
  {
   "cell_type": "markdown",
   "source": [
    "### Train and test split with extra regressors"
   ],
   "metadata": {}
  },
  {
   "cell_type": "code",
   "execution_count": null,
   "source": [
    "train, test = train_test_split_perc(df)\r\n",
    "y_hat = test.copy()"
   ],
   "outputs": [],
   "metadata": {}
  },
  {
   "cell_type": "code",
   "execution_count": null,
   "source": [
    "def extra_regressors(exog_variables_names):    \r\n",
    "    exog_train = train[exog_variables_names]\r\n",
    "    exog_test = test[exog_variables_names]\r\n",
    "    return exog_train, exog_test"
   ],
   "outputs": [],
   "metadata": {}
  },
  {
   "cell_type": "markdown",
   "source": [
    "i denotes the starting position of the extra regressors columns \n",
    "\n",
    "do call the column_reorder() function before"
   ],
   "metadata": {}
  },
  {
   "cell_type": "code",
   "execution_count": null,
   "source": [
    "def extra_regressors_with_iloc(i=1):\r\n",
    "    exog_train = train.iloc[: , i : -1]\r\n",
    "    exog_test = test.iloc[: , i : -1]\r\n",
    "    return exog_train, exog_test \r\n",
    "exog_train, exog_test = extra_regressors_with_iloc()"
   ],
   "outputs": [],
   "metadata": {}
  },
  {
   "cell_type": "markdown",
   "source": [
    "# ARX"
   ],
   "metadata": {}
  },
  {
   "cell_type": "markdown",
   "source": [
    "If you want only specific list of lags like 1 & 3 as AR components, then you can do that in the following way\n",
    "https://stackoverflow.com/questions/55882111/arima-model-for-certain-lags"
   ],
   "metadata": {}
  },
  {
   "cell_type": "code",
   "execution_count": null,
   "source": [
    "trend = \"ct\""
   ],
   "outputs": [],
   "metadata": {}
  },
  {
   "cell_type": "code",
   "execution_count": null,
   "source": [
    "def diagnostic_plot(model_fit, lags= 30):\r\n",
    "    fig = plt.figure(figsize=(16, 9))\r\n",
    "    fig = model_fit.plot_diagnostics(fig=fig, lags=lags)\r\n",
    "    print(model_fit.summary())\r\n",
    "    print(\"aic = \" +  str(model_fit.aic))\r\n",
    "    print(\"bic = \" + str(model_fit.bic))"
   ],
   "outputs": [],
   "metadata": {}
  },
  {
   "cell_type": "markdown",
   "source": [
    "# Choose the metrics that you want to minimize"
   ],
   "metadata": {}
  },
  {
   "cell_type": "code",
   "execution_count": null,
   "source": [
    "def metrics_( method):\r\n",
    "    mse = mean_squared_error(test[time_dependent_variable], y_hat[method])\r\n",
    "    mae = metrics.mean_absolute_error(test[time_dependent_variable], y_hat[method])\r\n",
    "    mape = mean_absolute_percentage_error(test[time_dependent_variable], y_hat[method])\r\n",
    "    r2 = metrics.r2_score(test[time_dependent_variable], y_hat[method])\r\n",
    "    return mape"
   ],
   "outputs": [],
   "metadata": {}
  },
  {
   "cell_type": "code",
   "execution_count": null,
   "source": [
    "from statsmodels.tsa.ar_model import AR\r\n",
    "from statsmodels.tsa.ar_model import AutoReg, ar_select_order\r\n",
    "\r\n",
    "def arx(lags , plot_ = False, method = \"ARX\"):\r\n",
    "\r\n",
    "\r\n",
    "    model = AutoReg(train[time_dependent_variable], lags=lags,exog = exog_train, trend= trend)\r\n",
    "    \r\n",
    "    fit1 = model.fit()\r\n",
    "    if plot_:\r\n",
    "        diagnostic_plot(fit1, lags= 30)\r\n",
    "    \r\n",
    "    y_hat[method] = fit1.predict(start=len(train), end=len(train)+len(test)-1, dynamic=False, exog_oos= exog_test)\r\n",
    "    \r\n",
    "     \r\n",
    "    return metrics_(method)\r\n",
    "arx(lags= 7)"
   ],
   "outputs": [],
   "metadata": {}
  },
  {
   "cell_type": "markdown",
   "source": [
    "### ARX with Seasonality = True\n",
    "\n",
    "we have to specify the number of periods as well"
   ],
   "metadata": {}
  },
  {
   "cell_type": "code",
   "execution_count": null,
   "source": [
    "from statsmodels.tsa.ar_model import AR\r\n",
    "from statsmodels.tsa.ar_model import AutoReg, ar_select_order\r\n",
    "\r\n",
    "def arx_seasonal(lags ,seasonal=True, period = 7 ,plot_ = False, method = \"ARX\"):\r\n",
    "\r\n",
    "\r\n",
    "    model = AutoReg(train[time_dependent_variable], lags=lags,exog = exog_train, trend= trend, seasonal=seasonal, period =period)\r\n",
    "    \r\n",
    "    fit1 = model.fit()\r\n",
    "    if plot_:\r\n",
    "        diagnostic_plot(fit1, lags= 30)\r\n",
    "    \r\n",
    "    y_hat[method] = fit1.predict(start=len(train), end=len(train)+len(test)-1, dynamic=False, exog_oos= exog_test)\r\n",
    "    \r\n",
    "     \r\n",
    "    return metrics_(method)\r\n",
    "arx_seasonal(lags= 7)"
   ],
   "outputs": [],
   "metadata": {}
  },
  {
   "cell_type": "code",
   "execution_count": null,
   "source": [
    "def arx_best_params(p_values=range(28)):\r\n",
    "    best_score, best_cfg = float(\"inf\"), None\r\n",
    "    for p in p_values:\r\n",
    "        order = (p,)\r\n",
    "        try:\r\n",
    "            metric = arx(*order) # you can also choose arx_seasonal() here\r\n",
    "            if metric < best_score:\r\n",
    "                best_score, best_cfg = metric, order\r\n",
    "            print('ARX%s metric=%.3f' % (order,metric))\r\n",
    "        except:\r\n",
    "            continue\r\n",
    "    print('Best ARX%s metric=%.3f' % (best_cfg, best_score))\r\n",
    "    return best_cfg\r\n",
    "    \r\n",
    "best_cfg = arx_best_params()"
   ],
   "outputs": [],
   "metadata": {}
  },
  {
   "cell_type": "code",
   "execution_count": null,
   "source": [
    "arx(*best_cfg, plot_ = True)"
   ],
   "outputs": [],
   "metadata": {}
  },
  {
   "cell_type": "code",
   "execution_count": null,
   "source": [
    "plot(method= 'ARX' )"
   ],
   "outputs": [],
   "metadata": {}
  },
  {
   "cell_type": "markdown",
   "source": [
    "# ARX with ar_select_order"
   ],
   "metadata": {}
  },
  {
   "cell_type": "markdown",
   "source": [
    "https://www.statsmodels.org/stable/examples/notebooks/generated/autoregressions.html"
   ],
   "metadata": {}
  },
  {
   "cell_type": "markdown",
   "source": [
    "This cell sets the plotting style, registers pandas date converters for matplotlib\n",
    "Also, we set the frequency for the time series to “D” (daily) to avoid warnings when using AutoReg."
   ],
   "metadata": {}
  },
  {
   "cell_type": "code",
   "execution_count": null,
   "source": [
    "pd.plotting.register_matplotlib_converters()\r\n"
   ],
   "outputs": [],
   "metadata": {}
  },
  {
   "cell_type": "code",
   "execution_count": null,
   "source": [
    "def autoreg_select_order(plot_= False, method= \"AutoReg_extra_reggressors\"):\r\n",
    "    sel = ar_select_order(train[time_dependent_variable],     maxlag= 13, exog= exog_train,\r\n",
    "        ic='aic',\r\n",
    "        glob=False,\r\n",
    "        trend='ct',\r\n",
    "        seasonal=False, old_names=False)\r\n",
    "    \r\n",
    "    res = sel.model.fit()\r\n",
    "    if plot_:\r\n",
    "        diagnostic_plot(res)\r\n",
    "    y_hat[method]= res.predict(start=len(train), end=len(train)+len(test)-1, exog_oos= exog_test, dynamic=False)\r\n",
    "autoreg_select_order(method= \"AutoReg_extra_reggressors\")"
   ],
   "outputs": [],
   "metadata": {}
  },
  {
   "cell_type": "code",
   "execution_count": null,
   "source": [
    "plot(method= \"AutoReg_extra_reggressors\")"
   ],
   "outputs": [],
   "metadata": {}
  },
  {
   "cell_type": "markdown",
   "source": [
    "# ARX with pmdarima library"
   ],
   "metadata": {}
  },
  {
   "cell_type": "code",
   "execution_count": null,
   "source": [
    "def auto_arx(max_p = 7, plot_ = False, method = \"Auto_ARX\"):\r\n",
    "    model = pmd.auto_arima(train[time_dependent_variable], \r\n",
    "                          start_p=1, \r\n",
    "                          start_q=0,\r\n",
    "                          d = 0,\r\n",
    "                           max_p = max_p, max_q=0,\r\n",
    "                           X= exog_train,\r\n",
    "                           trend = trend, seasonal=False,\r\n",
    "                           trace=True,error_action='ignore',\r\n",
    "                          suppress_warnings=True,stepwise=True,\r\n",
    "                           n_jobs= -1)\r\n",
    "\r\n",
    "    \r\n",
    "    \r\n",
    "\r\n",
    "\r\n",
    "     \r\n",
    "    \r\n",
    "    y_hat.loc[:,method] = model.predict(len(test),X= exog_test)\r\n",
    "\r\n",
    "     \r\n",
    "     \r\n",
    "     \r\n",
    "    if plot_:\r\n",
    "        diagnostic_plot(model)\r\n",
    "    \r\n",
    "\r\n",
    "     \r\n",
    "    print(metrics_(method))\r\n",
    "    \r\n",
    "auto_arx()"
   ],
   "outputs": [],
   "metadata": {}
  },
  {
   "cell_type": "code",
   "execution_count": null,
   "source": [
    "plot(method = \"Auto_ARX\")"
   ],
   "outputs": [],
   "metadata": {}
  },
  {
   "cell_type": "markdown",
   "source": [
    "# MAX"
   ],
   "metadata": {}
  },
  {
   "cell_type": "code",
   "execution_count": null,
   "source": [
    "def ma(MA, summary= False, method = \"MAX\"):\r\n",
    "    global y_hat\r\n",
    "    model = ARMA(train[time_dependent_variable], order=(0, MA), exog= exog_train)\r\n",
    "    \r\n",
    "    fit1 = model.fit(disp=False)\r\n",
    "    \r\n",
    "    if summary: print(fit1.summary())\r\n",
    "        \r\n",
    "    y_hat[method] = fit1.predict(start=len(train), end=len(train)+len(test)-1, exog= exog_test, dynamic=False)\r\n",
    "     \r\n",
    "    return metrics_(method)\r\n",
    "    \r\n",
    "ma(MA = 5, method = \"MAX\")\r\n",
    "\r\n"
   ],
   "outputs": [],
   "metadata": {}
  },
  {
   "cell_type": "code",
   "execution_count": null,
   "source": [
    "def ma_best_params(q_values=range(7)):\r\n",
    "    \r\n",
    "    best_score, best_cfg = float(\"inf\"), None\r\n",
    " \r\n",
    "\r\n",
    "    for q in q_values:\r\n",
    "        order = (q, )\r\n",
    "        try:\r\n",
    "            metric = ma(*order)\r\n",
    "            if metric < best_score:\r\n",
    "                best_score, best_cfg = metric, order\r\n",
    "            print('MAX%s metric=%.3f' % (order,metric))\r\n",
    "        except:\r\n",
    "            continue\r\n",
    "    print('Best MAX%s metric=%.3f' % (best_cfg, best_score))\r\n",
    "    return best_cfg\r\n",
    "    \r\n",
    "best_cfg = ma_best_params()"
   ],
   "outputs": [],
   "metadata": {}
  },
  {
   "cell_type": "code",
   "execution_count": null,
   "source": [
    "ma(*best_cfg, summary = True)"
   ],
   "outputs": [],
   "metadata": {}
  },
  {
   "cell_type": "code",
   "execution_count": null,
   "source": [
    "plot(method = \"MAX\")"
   ],
   "outputs": [],
   "metadata": {}
  },
  {
   "cell_type": "markdown",
   "source": [
    "# MAX with pmdarima library"
   ],
   "metadata": {}
  },
  {
   "cell_type": "code",
   "execution_count": null,
   "source": [
    "def auto_ma(max_q = 40, summary = False, method = \"Auto_MAX\"):\r\n",
    "    model = pmd.auto_arima(train[time_dependent_variable], \r\n",
    "                          start_p=0, \r\n",
    "                          start_q=7,\r\n",
    "                          d = 0,\r\n",
    "                           X= exog_train,\r\n",
    "                           max_p = 0, max_q=max_q, seasonal=False,trend = trend,\r\n",
    "                            trace=True,error_action='ignore',\r\n",
    "                          suppress_warnings=True,stepwise=True, \r\n",
    "                          n_jobs= -1)\r\n",
    "\r\n",
    "    \r\n",
    "    \r\n",
    "     \r\n",
    "     \r\n",
    "    if summary: print(model.summary())\r\n",
    "     \r\n",
    "    \r\n",
    "    y_hat.loc[:,method] = model.predict(len(test), X= exog_test)\r\n",
    "\r\n",
    "    print(metrics_(method))\r\n",
    "    \r\n",
    "auto_ma()"
   ],
   "outputs": [],
   "metadata": {}
  },
  {
   "cell_type": "code",
   "execution_count": null,
   "source": [
    "plot(method = \"Auto_MAX\")"
   ],
   "outputs": [],
   "metadata": {}
  },
  {
   "cell_type": "markdown",
   "source": [
    "# ARMAX"
   ],
   "metadata": {}
  },
  {
   "cell_type": "code",
   "execution_count": null,
   "source": [
    "def arma(AR,MA, summary= False, method = \"ARMAX\"):\r\n",
    "    global y_hat\r\n",
    "    model = ARMA(train[time_dependent_variable], order=(AR,MA))\r\n",
    "    \r\n",
    "    fit1 = model.fit(disp=False)\r\n",
    "    if summary:\r\n",
    "        print(fit1.summary())\r\n",
    "    \r\n",
    "    y_hat[method] = fit1.predict(start=len(train), end=len(train)+len(test)-1, dynamic=False)\r\n",
    "     \r\n",
    "    return metrics_(method)\r\n",
    "    \r\n",
    "arma(AR= 1,MA = 1, method = \"ARMAX\")"
   ],
   "outputs": [],
   "metadata": {}
  },
  {
   "cell_type": "code",
   "execution_count": null,
   "source": [
    "def arma_best_params(p_values=range(7), q_values=range(7)):\r\n",
    "    best_score, best_cfg = float(\"inf\"), None\r\n",
    "    for p in p_values:\r\n",
    "        for q in q_values:\r\n",
    "            order = (p, q)\r\n",
    "            try:\r\n",
    "                metric = arma(*order)\r\n",
    "                if metric < best_score:\r\n",
    "                    best_score, best_cfg = metric, order\r\n",
    "                print('ARMAX%s metric=%.3f' % (order,metric))\r\n",
    "            except:\r\n",
    "                continue\r\n",
    "    print('Best ARMAX%s metric=%.3f' % (best_cfg, best_score))\r\n",
    "    return best_cfg\r\n",
    "    \r\n",
    "best_cfg = arma_best_params()"
   ],
   "outputs": [],
   "metadata": {}
  },
  {
   "cell_type": "code",
   "execution_count": null,
   "source": [
    "arma(*best_cfg, summary= True)"
   ],
   "outputs": [],
   "metadata": {}
  },
  {
   "cell_type": "code",
   "execution_count": null,
   "source": [
    "plot(method = \"ARMAX\")"
   ],
   "outputs": [],
   "metadata": {}
  },
  {
   "cell_type": "markdown",
   "source": [
    "# ARMAX with pmdarima"
   ],
   "metadata": {}
  },
  {
   "cell_type": "code",
   "execution_count": null,
   "source": [
    "def auto_arma(max_p = 7, max_q= 7, summary = False, method = \"Auto_ARMAX\"):\r\n",
    "    model = pmd.auto_arima(train[time_dependent_variable], \r\n",
    "                          start_p=7, \r\n",
    "                          start_q=1,\r\n",
    "                           d = 0,\r\n",
    "                           max_p = max_p, max_q = max_q,\r\n",
    "                           seasonal=False, trend = trend,\r\n",
    "                           trace=True,error_action='ignore',\r\n",
    "                          suppress_warnings=True,stepwise=True,\r\n",
    "                          n_jobs= -1)\r\n",
    "\r\n",
    "    \r\n",
    "    \r\n",
    "     \r\n",
    "     \r\n",
    "    if summary: print(model.summary())\r\n",
    "     \r\n",
    "    \r\n",
    "    y_hat.loc[:,method] = model.predict(len(test))\r\n",
    "\r\n",
    "     \r\n",
    "    print(metrics_(method))\r\n",
    "    \r\n",
    "auto_arma()"
   ],
   "outputs": [],
   "metadata": {}
  },
  {
   "cell_type": "code",
   "execution_count": null,
   "source": [
    "plot(method = \"Auto_ARMAX\")"
   ],
   "outputs": [],
   "metadata": {}
  },
  {
   "cell_type": "markdown",
   "source": [
    "# ARIMAX"
   ],
   "metadata": {}
  },
  {
   "cell_type": "code",
   "execution_count": null,
   "source": [
    "def arima(p,d,q,summary= False,  method = 'ARIMAX'):\r\n",
    "\r\n",
    "    \r\n",
    "    model = ARIMA(train[time_dependent_variable], exog=exog_train, order=(p,d,q))\r\n",
    "    fit1 = model.fit()\r\n",
    "    if summary:\r\n",
    "        print(fit1.summary())\r\n",
    "    y_hat[method] = fit1.predict(start=len(train), end=len(train)+len(test)-1, exog=exog_test, dynamic=False, typ='levels')\r\n",
    "   \r\n",
    "    return metrics_(method)\r\n",
    "\r\n",
    "arima(1, 1, 1)"
   ],
   "outputs": [],
   "metadata": {}
  },
  {
   "cell_type": "code",
   "execution_count": null,
   "source": [
    "def arima_best_params(p_values=range(7), d_values=range(2), q_values=range(7)):\r\n",
    "    best_score, best_cfg = float(\"inf\"), None\r\n",
    " \r\n",
    "    for p in p_values:\r\n",
    "        for d in d_values:\r\n",
    "            for q in q_values:\r\n",
    "                order = (p, d, q)\r\n",
    "                try:\r\n",
    "                    metric = arima(*order)\r\n",
    "                    if metric < best_score:\r\n",
    "                        best_score, best_cfg = metric, order\r\n",
    "                    print('ARIMA%s metric=%.3f' % (order,metric))\r\n",
    "                except:\r\n",
    "                    continue\r\n",
    "    print('Best ARIMA%s metric=%.3f' % (best_cfg, best_score))\r\n",
    "    return best_cfg\r\n",
    "    \r\n",
    "best_cfg = arima_best_params()"
   ],
   "outputs": [],
   "metadata": {}
  },
  {
   "cell_type": "code",
   "execution_count": null,
   "source": [
    "arima(*best_cfg, summary= True)"
   ],
   "outputs": [],
   "metadata": {}
  },
  {
   "cell_type": "code",
   "execution_count": null,
   "source": [
    "plot(method= 'ARIMAX' )"
   ],
   "outputs": [],
   "metadata": {}
  },
  {
   "cell_type": "markdown",
   "source": [
    "# ARIMAX With PMDARIMA LIBRARY"
   ],
   "metadata": {}
  },
  {
   "cell_type": "markdown",
   "source": [
    "• Pmdarima (for py + arima) is a statistical library designed to fill the void in Python’s time-series analysis capabilities, which is the equivalent of R’s auto.arima"
   ],
   "metadata": {}
  },
  {
   "cell_type": "code",
   "execution_count": null,
   "source": [
    "import pmdarima as pmd\r\n",
    "\r\n",
    "def arimamodel():\r\n",
    "    autoarima_model = pmd.auto_arima(train[time_dependent_variable], \r\n",
    "                              start_p=1, \r\n",
    "                              start_q=1,\r\n",
    "                               max_p=7, max_q=7, \r\n",
    "                              seasonal=False, trend = trend,\r\n",
    "                               d=None, trace=True,error_action='ignore',\r\n",
    "                              suppress_warnings=True,stepwise=True)\r\n",
    "    return autoarima_model\r\n"
   ],
   "outputs": [],
   "metadata": {}
  },
  {
   "cell_type": "code",
   "execution_count": null,
   "source": [
    "def auto_arima(max_p= 7, max_q=7,summary = False, method = \"Auto_ARIMAX\"):\r\n",
    "    model = pmd.auto_arima(train[time_dependent_variable], \r\n",
    "                          start_p=1, \r\n",
    "                          start_q=1,\r\n",
    "                           max_p=max_p, max_q=max_q,\r\n",
    "                           X= exog_train,\r\n",
    "                           seasonal=False, \r\n",
    "                           d=None, trace=True,error_action='ignore',\r\n",
    "                          suppress_warnings=True,stepwise=True,\r\n",
    "                           n_jobs= -1)\r\n",
    "\r\n",
    "    \r\n",
    "    \r\n",
    "     \r\n",
    "     \r\n",
    "    if summary: print(model.summary())\r\n",
    "     \r\n",
    "    \r\n",
    "    y_hat.loc[:,method] = model.predict(len(test), X= exog_test)\r\n",
    "\r\n",
    "    print(metrics_(method))\r\n",
    "    \r\n",
    "auto_arima()"
   ],
   "outputs": [],
   "metadata": {}
  },
  {
   "cell_type": "code",
   "execution_count": null,
   "source": [
    "plot(method=  \"Auto_ARIMAX\")"
   ],
   "outputs": [],
   "metadata": {}
  },
  {
   "cell_type": "markdown",
   "source": [
    "# SARIMAX"
   ],
   "metadata": {}
  },
  {
   "cell_type": "markdown",
   "source": [
    "m refers to the number of periods in each season.\n",
    "\n",
    "• 7 → Daily\n",
    "\n",
    "• 12 → Monthly\n",
    "\n",
    "• 52 → Weekly\n",
    "\n",
    "• 4 → Quarterly\n",
    "\n",
    "• 1 → Annual (non-seasonal)"
   ],
   "metadata": {}
  },
  {
   "cell_type": "code",
   "execution_count": null,
   "source": [
    "from statsmodels.tsa.statespace.sarimax import SARIMAX\r\n",
    "def sarima(p,d,q, P,D,Q,M, plot_ = False, method = 'SARIMAX' ):\r\n",
    "\r\n",
    "\r\n",
    "    \r\n",
    "    model = SARIMAX(train[time_dependent_variable], exog=exog_train, order=(p,d,q),  seasonal_order=(P,D,Q,M))\r\n",
    "    fit1 = model.fit()\r\n",
    "    if plot_:\r\n",
    "        diagnostic_plot(fit1)\r\n",
    "    \r\n",
    "    y_hat[method] = fit1.predict(start=len(train), end=len(train)+len(test)-1,exog= exog_test, dynamic=False, typ='levels',start_params=[0, 0, 0, 0, 0, 1])\r\n",
    "    \r\n",
    "    \r\n",
    "    return metrics_(method)\r\n",
    "sarima(1, 1, 1, 1, 1, 3, 7)"
   ],
   "outputs": [],
   "metadata": {}
  },
  {
   "cell_type": "code",
   "execution_count": null,
   "source": [
    "def sarima_best_params(p_values=range(4), d_values=range(2), q_values=range(4), P_values=range(4), D_values=range(2), Q_values=range(4)):\r\n",
    "    best_score, best_cfg = float(\"inf\"), None\r\n",
    "    for M in [1, 4,7,12,52]:\r\n",
    "        for p in p_values:\r\n",
    "            for d in d_values:\r\n",
    "                for q in q_values:\r\n",
    "                        for P in P_values:\r\n",
    "                            for D in D_values:\r\n",
    "                                for Q in Q_values:\r\n",
    "                                    order = (p,d,q,P,D,Q, M)\r\n",
    "                                    try:\r\n",
    "                                        metric = sarima(*order)\r\n",
    "                                        if metric < best_score:\r\n",
    "                                            best_score, best_cfg = metric, order\r\n",
    "                                        print('SARIMAX%s metric=%.3f' % (order,metric))\r\n",
    "                                    except:\r\n",
    "                                        continue\r\n",
    "    print('Best SARIMAX%s metric=%.3f' % (best_cfg, best_score))\r\n",
    "    return best_cfg \r\n",
    "    \r\n",
    "best_cfg = sarima_best_params()"
   ],
   "outputs": [],
   "metadata": {}
  },
  {
   "cell_type": "code",
   "execution_count": null,
   "source": [
    "print(best_cfg)\r\n",
    "sarima(*best_cfg, plot_ = True)"
   ],
   "outputs": [],
   "metadata": {}
  },
  {
   "cell_type": "code",
   "execution_count": null,
   "source": [
    "plot(method = \"SARIMAX\")"
   ],
   "outputs": [],
   "metadata": {}
  },
  {
   "cell_type": "markdown",
   "source": [
    "# Seasonal ARIMAX using Pmdarima Library"
   ],
   "metadata": {}
  },
  {
   "cell_type": "code",
   "execution_count": null,
   "source": [
    "def auto_sarima(m, max_p= 3, max_q= 3, max_P=3 , max_Q=3  ,summary = False, method = \"Auto_SARIMAX\"):\r\n",
    "    model = pmd.auto_arima(train[time_dependent_variable], \r\n",
    "                               start_p=1, start_q=1,\r\n",
    "                                max_p=max_p, max_q=max_q, seasonal=True, start_P=1,\r\n",
    "                                start_Q=1, max_P=max_P, max_D=7, max_Q=max_Q, m=m,\r\n",
    "                                X = exog_train,\r\n",
    "                                d=None, D=None, trace=True, error_action='ignore', \r\n",
    "                                suppress_warnings=True,\r\n",
    "                                stepwise=True,\r\n",
    "                                n_jobs= -1)\r\n",
    "\r\n",
    "    \r\n",
    "    \r\n",
    "     \r\n",
    "     \r\n",
    "    \r\n",
    "    if summary: print(model.summary())\r\n",
    "     \r\n",
    "    \r\n",
    "    y_hat.loc[:,method] = model.predict(len(test), X = exog_test)\r\n",
    "\r\n",
    "    return metrics_(method)\r\n",
    "auto_sarima(m = 12)"
   ],
   "outputs": [],
   "metadata": {}
  },
  {
   "cell_type": "markdown",
   "source": [
    "Choosing the best m value "
   ],
   "metadata": {}
  },
  {
   "cell_type": "code",
   "execution_count": null,
   "source": [
    "def auto_sarima_best_seasonal_params():\r\n",
    "    best_score, best_cfg = float(\"inf\"), None\r\n",
    "    for m in [1, 4,7,12,52]:\r\n",
    "        print(\"=\"*100)\r\n",
    "        print(f' Fitting SARIMAX for Seasonal value m = {str(m)}')\r\n",
    "        order = m\r\n",
    "        try:\r\n",
    "            metric = auto_sarima(m= m)\r\n",
    "            if metric < best_score:\r\n",
    "                best_score, best_cfg = metric, order\r\n",
    "            print('SARIMAX%s metric=%.3f' % (order,metric))\r\n",
    "        except:\r\n",
    "            continue\r\n",
    "    print('Best SARIMAX%s metric=%.3f' % (best_cfg, best_score))\r\n",
    "    return best_cfg\r\n",
    "    \r\n",
    "best_cfg = auto_sarima_best_seasonal_params()\r\n"
   ],
   "outputs": [],
   "metadata": {}
  },
  {
   "cell_type": "code",
   "execution_count": null,
   "source": [
    "auto_sarima(m= best_cfg, summary = True)"
   ],
   "outputs": [],
   "metadata": {}
  },
  {
   "cell_type": "code",
   "execution_count": null,
   "source": [
    "plot(method=  \"Auto_SARIMAX\")"
   ],
   "outputs": [],
   "metadata": {}
  }
 ],
 "metadata": {
  "kernelspec": {
   "display_name": "Python 3",
   "language": "python",
   "name": "python3"
  },
  "language_info": {
   "codemirror_mode": {
    "name": "ipython",
    "version": 3
   },
   "file_extension": ".py",
   "mimetype": "text/x-python",
   "name": "python",
   "nbconvert_exporter": "python",
   "pygments_lexer": "ipython3",
   "version": "3.8.8"
  }
 },
 "nbformat": 4,
 "nbformat_minor": 2
}