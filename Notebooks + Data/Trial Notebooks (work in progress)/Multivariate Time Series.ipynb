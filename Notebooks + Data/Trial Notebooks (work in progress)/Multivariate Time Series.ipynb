{
 "cells": [
  {
   "cell_type": "markdown",
   "id": "a4b877ef",
   "metadata": {},
   "source": [
    "Developing Vector AutoRegressive Model in Python!\n",
    "\n",
    "https://www.analyticsvidhya.com/blog/2021/08/vector-autoregressive-model-in-python/\n",
    "\n",
    "https://www.machinelearningplus.com/time-series/vector-autoregression-examples-python/"
   ]
  },
  {
   "cell_type": "markdown",
   "id": "ad40e2de",
   "metadata": {},
   "source": [
    "Multivariate Time Series Anomaly Detection using VAR model\n",
    "\n",
    "https://www.analyticsvidhya.com/blog/2021/08/multivariate-time-series-anomaly-detection-using-var-model/"
   ]
  },
  {
   "cell_type": "markdown",
   "id": "ea894488",
   "metadata": {},
   "source": [
    "# Vector AutoRegressive "
   ]
  },
  {
   "cell_type": "code",
   "execution_count": null,
   "id": "fd00d4f4",
   "metadata": {},
   "outputs": [],
   "source": []
  }
 ],
 "metadata": {
  "kernelspec": {
   "display_name": "Python 3",
   "language": "python",
   "name": "python3"
  },
  "language_info": {
   "codemirror_mode": {
    "name": "ipython",
    "version": 3
   },
   "file_extension": ".py",
   "mimetype": "text/x-python",
   "name": "python",
   "nbconvert_exporter": "python",
   "pygments_lexer": "ipython3",
   "version": "3.8.8"
  }
 },
 "nbformat": 4,
 "nbformat_minor": 5
}
