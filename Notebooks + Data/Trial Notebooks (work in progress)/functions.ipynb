{
 "cells": [
  {
   "cell_type": "code",
   "execution_count": 1,
   "id": "93e5074c",
   "metadata": {},
   "outputs": [],
   "source": [
    "# libraries\n",
    "import pandas as pd \n",
    "import math\n",
    "import numpy as np \n",
    "import matplotlib.pyplot as plt\n",
    "import datetime\n",
    "from sklearn import metrics\n",
    "from statsmodels.tsa.api import ExponentialSmoothing,SimpleExpSmoothing, Holt\n",
    "from statsmodels.tsa.forecasting.theta import ThetaModel\n",
    "#%pip install pmdarima\n",
    "#%pip install sktime\n",
    "#%pip install ipynb\n",
    "\n",
    "import warnings\n",
    "from sklearn import metrics\n",
    "from sklearn.metrics import mean_squared_error\n",
    "from math import sqrt\n",
    "from statsmodels.tsa.ar_model import AutoReg\n",
    "from statsmodels.tsa.arima_model import ARIMA\n",
    "warnings.filterwarnings(\"ignore\")\n",
    "plt.style.use('fivethirtyeight')"
   ]
  },
  {
   "cell_type": "code",
   "execution_count": 2,
   "id": "9106f137",
   "metadata": {},
   "outputs": [],
   "source": [
    "# In order to use this notebook for univarate time series analysis :-\n",
    "# 1) The primary requirement is not to have missing values or categorial(string) data for time_dependent variable \n",
    "#    and time_column.\n",
    "# 2) This cell requires information on file_name (only csv), time_dependent_variable, time_column, date_time format (frmt)\n",
    "#    and resample grain(X). After filling the required information correctly, you can run all the cells (Cell ---> Run All)\n",
    "# 3) Example :-\n",
    "#   file_name               = \"JetRail Avg Hourly Traffic Data - 2012-2013.csv\"\n",
    "#   time_dependent_variable = \"Count\"    (column name in your dataset)\n",
    "#   time_column             = \"Datetime\" (column name in your dataset)\n",
    "#   frmt                    = \"%Y-%m-%d\"\n",
    "#   X                       = \"D\" \n",
    "\n",
    "\n",
    "file_name = \"JetRail Avg Hourly Traffic Data - 2012-2013.csv\"\n",
    "time_dependent_variable = \"Count\"\n",
    "time_column = \"Datetime\"\n",
    "frmt =  \"%Y-%m-%d\"\n",
    "X = \"D\"\n",
    "split = .9"
   ]
  },
  {
   "cell_type": "code",
   "execution_count": 3,
   "id": "189a9dba",
   "metadata": {},
   "outputs": [],
   "source": [
    "def data_univariate():\n",
    "    df = pd.read_csv(file_name, parse_dates= True)\n",
    "    df = df[[time_column,time_dependent_variable]]\n",
    "    df[time_column] = pd.to_datetime(df[time_column],format=frmt) \n",
    "    df.index = df[time_column]\n",
    "    df = df.resample(X).mean()\n",
    "    df.reset_index(inplace= True)\n",
    "    return df\n",
    "\n",
    "df = data_univariate()"
   ]
  },
  {
   "cell_type": "code",
   "execution_count": 4,
   "id": "f16bd837",
   "metadata": {},
   "outputs": [],
   "source": [
    "def data_multivariate():\n",
    "    df = pd.read_csv(file_name, parse_dates= True)\n",
    "    df[time_column] = pd.to_datetime(df[time_column],format=frmt) \n",
    "    df.index = df[time_column]\n",
    "    df = df.resample(X).mean()\n",
    "    df.reset_index(inplace= True)\n",
    "    return df\n"
   ]
  },
  {
   "cell_type": "code",
   "execution_count": 5,
   "id": "9cd80fca",
   "metadata": {},
   "outputs": [],
   "source": [
    "def resumetable(df):\n",
    "    print(f\"Dataset Shape: {df.shape}\")\n",
    "    summary = pd.DataFrame(df.dtypes,columns=['dtypes'])\n",
    "    summary = summary.reset_index()\n",
    "    summary['Name'] = summary['index']\n",
    "    summary = summary[['Name','dtypes']]\n",
    "    summary['Missing'] = df.isnull().sum().values\n",
    "    summary['Missing(% of Total values)']= (100 * summary['Missing']) / df.shape[0]\n",
    "    summary['Uniques'] = df.nunique().values\n",
    "    summary['First Value'] = df.loc[0].values\n",
    "    summary['Second Value'] = df.loc[1].values\n",
    "    return summary\n"
   ]
  },
  {
   "cell_type": "code",
   "execution_count": 6,
   "id": "202ce4e2",
   "metadata": {},
   "outputs": [],
   "source": [
    "def describe(df):\n",
    "    return df.describe().T"
   ]
  },
  {
   "cell_type": "code",
   "execution_count": 7,
   "id": "1d74ab56",
   "metadata": {},
   "outputs": [],
   "source": [
    "from sklearn import metrics\n",
    "\n",
    "def timeseries_evaluation_metrics_func(y_true, y_pred):\n",
    "    def mean_absolute_percentage_error(y_true, y_pred):\n",
    "        y_true, y_pred = np.array(y_true), np.array(y_pred)\n",
    "        return np.mean(np.abs((y_true - y_pred) / y_true)) * 100\n",
    "    print('Evaluation metric results:-')\n",
    "    print(f'MSE is : {metrics.mean_squared_error(y_true, y_pred)}')\n",
    "    print(f'MAE is : {metrics.mean_absolute_error(y_true, y_pred)}')\n",
    "    print(f'RMSE is : {np.sqrt(metrics.mean_squared_error(y_true, y_pred))}')\n",
    "    print(f'MAPE is : {mean_absolute_percentage_error(y_true,y_pred)}')\n",
    "    print(f'R2 is : {metrics.r2_score(y_true, y_pred)}',end='\\n\\n')"
   ]
  },
  {
   "cell_type": "code",
   "execution_count": 8,
   "id": "32e3c1e3",
   "metadata": {},
   "outputs": [],
   "source": [
    "# This splits the data into train and test using split_date\n",
    "def train_test_split_date(df, split_date):\n",
    "    split_date = '2017-01-01'\n",
    "    train = df.loc[df.index <= split_date].copy()\n",
    "    test = df.loc[df.index > split_date].copy()\n",
    "    return train, test"
   ]
  },
  {
   "cell_type": "code",
   "execution_count": 9,
   "id": "ba328936",
   "metadata": {},
   "outputs": [],
   "source": [
    "# This splits the data into train and test using default split_size = 0.7\n",
    "def train_test_split_perc(df, split = .9):\n",
    "    total_size=len(df)\n",
    "    train_size=math.floor(split*total_size) #(70% Dataset)\n",
    "    train = df.head(train_size)\n",
    "    test  = df.tail(len(df) -train_size)\n",
    "    return train, test\n",
    "train, test =  train_test_split_perc(df, split = .9) \n",
    "\n",
    "y_hat= test.copy()\n"
   ]
  },
  {
   "cell_type": "code",
   "execution_count": 10,
   "id": "681ee18d",
   "metadata": {},
   "outputs": [],
   "source": [
    "def plot(method):\n",
    "    global y_hat\n",
    "    plt.figure(figsize=(12,8))\n",
    "    plt.plot(train[time_column], train[time_dependent_variable], label='Train')\n",
    "    plt.plot(test[time_column],test[time_dependent_variable], label='Test')\n",
    "    plt.plot(y_hat[time_column], y_hat[method], label= method +' forecast')\n",
    "    plt.legend(loc='best')\n",
    "    plt.title(method + ' forecast')\n",
    "    plt.show()"
   ]
  },
  {
   "cell_type": "code",
   "execution_count": 11,
   "id": "332d4d7c",
   "metadata": {},
   "outputs": [],
   "source": [
    "def plot_with_metric(method):\n",
    "    plot(method)\n",
    "    timeseries_evaluation_metrics_func(y_hat[time_dependent_variable], y_hat[method])"
   ]
  },
  {
   "cell_type": "code",
   "execution_count": 12,
   "id": "22e36199",
   "metadata": {},
   "outputs": [],
   "source": [
    "def date_features(df):\n",
    "    \n",
    "\n",
    "    \n",
    "    df['month'] = df[time_column].dt.month\n",
    "    df['year'] = df[time_column].dt.year\n",
    "    #df['dayofweek'] = df[time_column].dt.strftime('%A')\n",
    "    df['week_day'] = df[time_column].dt.weekday\n",
    "    df['quarter'] = df[time_column].dt.quarter\n",
    "    df['dayofyear'] = df[time_column].dt.dayofyear\n",
    "    df['dayofmonth'] = df[time_column].dt.day\n",
    "    df['weekofyear'] = df[time_column].dt.weekofyear\n",
    "    \n",
    "\n",
    "    return df"
   ]
  },
  {
   "cell_type": "code",
   "execution_count": 13,
   "id": "bac3764d",
   "metadata": {},
   "outputs": [],
   "source": [
    "def column_reorder(df):\n",
    "    df = df[[ col for col in df.columns if col != time_dependent_variable] + [time_dependent_variable]]\n",
    "    return df\n"
   ]
  }
 ],
 "metadata": {
  "kernelspec": {
   "display_name": "Python 3",
   "language": "python",
   "name": "python3"
  },
  "language_info": {
   "codemirror_mode": {
    "name": "ipython",
    "version": 3
   },
   "file_extension": ".py",
   "mimetype": "text/x-python",
   "name": "python",
   "nbconvert_exporter": "python",
   "pygments_lexer": "ipython3",
   "version": "3.8.8"
  }
 },
 "nbformat": 4,
 "nbformat_minor": 5
}
