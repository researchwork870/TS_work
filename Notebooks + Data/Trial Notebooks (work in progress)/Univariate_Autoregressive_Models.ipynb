{
 "cells": [
  {
   "cell_type": "markdown",
   "metadata": {},
   "source": [
    "# AR MODELS"
   ]
  },
  {
   "cell_type": "code",
   "execution_count": 1,
   "metadata": {},
   "outputs": [],
   "source": [
    "from ipynb.fs.full.functions import *\n",
    "# import ipynb.fs.full.my_functions"
   ]
  },
  {
   "cell_type": "markdown",
   "metadata": {},
   "source": [
    "### Reading the csv file"
   ]
  },
  {
   "cell_type": "code",
   "execution_count": 2,
   "metadata": {},
   "outputs": [
    {
     "data": {
      "text/html": [
       "<div>\n",
       "<style scoped>\n",
       "    .dataframe tbody tr th:only-of-type {\n",
       "        vertical-align: middle;\n",
       "    }\n",
       "\n",
       "    .dataframe tbody tr th {\n",
       "        vertical-align: top;\n",
       "    }\n",
       "\n",
       "    .dataframe thead th {\n",
       "        text-align: right;\n",
       "    }\n",
       "</style>\n",
       "<table border=\"1\" class=\"dataframe\">\n",
       "  <thead>\n",
       "    <tr style=\"text-align: right;\">\n",
       "      <th></th>\n",
       "      <th>Datetime</th>\n",
       "      <th>Count</th>\n",
       "    </tr>\n",
       "  </thead>\n",
       "  <tbody>\n",
       "    <tr>\n",
       "      <th>0</th>\n",
       "      <td>2012-08-25</td>\n",
       "      <td>3.166667</td>\n",
       "    </tr>\n",
       "    <tr>\n",
       "      <th>1</th>\n",
       "      <td>2012-08-26</td>\n",
       "      <td>3.666667</td>\n",
       "    </tr>\n",
       "    <tr>\n",
       "      <th>2</th>\n",
       "      <td>2012-08-27</td>\n",
       "      <td>2.583333</td>\n",
       "    </tr>\n",
       "    <tr>\n",
       "      <th>3</th>\n",
       "      <td>2012-08-28</td>\n",
       "      <td>2.416667</td>\n",
       "    </tr>\n",
       "    <tr>\n",
       "      <th>4</th>\n",
       "      <td>2012-08-29</td>\n",
       "      <td>2.500000</td>\n",
       "    </tr>\n",
       "  </tbody>\n",
       "</table>\n",
       "</div>"
      ],
      "text/plain": [
       "    Datetime     Count\n",
       "0 2012-08-25  3.166667\n",
       "1 2012-08-26  3.666667\n",
       "2 2012-08-27  2.583333\n",
       "3 2012-08-28  2.416667\n",
       "4 2012-08-29  2.500000"
      ]
     },
     "execution_count": 2,
     "metadata": {},
     "output_type": "execute_result"
    }
   ],
   "source": [
    "df.head()"
   ]
  },
  {
   "cell_type": "code",
   "execution_count": 3,
   "metadata": {},
   "outputs": [
    {
     "data": {
      "text/html": [
       "<div>\n",
       "<style scoped>\n",
       "    .dataframe tbody tr th:only-of-type {\n",
       "        vertical-align: middle;\n",
       "    }\n",
       "\n",
       "    .dataframe tbody tr th {\n",
       "        vertical-align: top;\n",
       "    }\n",
       "\n",
       "    .dataframe thead th {\n",
       "        text-align: right;\n",
       "    }\n",
       "</style>\n",
       "<table border=\"1\" class=\"dataframe\">\n",
       "  <thead>\n",
       "    <tr style=\"text-align: right;\">\n",
       "      <th></th>\n",
       "      <th>count</th>\n",
       "      <th>mean</th>\n",
       "      <th>std</th>\n",
       "      <th>min</th>\n",
       "      <th>25%</th>\n",
       "      <th>50%</th>\n",
       "      <th>75%</th>\n",
       "      <th>max</th>\n",
       "    </tr>\n",
       "  </thead>\n",
       "  <tbody>\n",
       "    <tr>\n",
       "      <th>Count</th>\n",
       "      <td>494.0</td>\n",
       "      <td>60.804656</td>\n",
       "      <td>57.468859</td>\n",
       "      <td>2.416667</td>\n",
       "      <td>15.520833</td>\n",
       "      <td>37.083333</td>\n",
       "      <td>95.0625</td>\n",
       "      <td>257.75</td>\n",
       "    </tr>\n",
       "  </tbody>\n",
       "</table>\n",
       "</div>"
      ],
      "text/plain": [
       "       count       mean        std       min        25%        50%      75%  \\\n",
       "Count  494.0  60.804656  57.468859  2.416667  15.520833  37.083333  95.0625   \n",
       "\n",
       "          max  \n",
       "Count  257.75  "
      ]
     },
     "execution_count": 3,
     "metadata": {},
     "output_type": "execute_result"
    }
   ],
   "source": [
    "describe(df)"
   ]
  },
  {
   "cell_type": "code",
   "execution_count": 4,
   "metadata": {},
   "outputs": [
    {
     "name": "stdout",
     "output_type": "stream",
     "text": [
      "Dataset Shape: (494, 2)\n"
     ]
    },
    {
     "data": {
      "text/html": [
       "<div>\n",
       "<style scoped>\n",
       "    .dataframe tbody tr th:only-of-type {\n",
       "        vertical-align: middle;\n",
       "    }\n",
       "\n",
       "    .dataframe tbody tr th {\n",
       "        vertical-align: top;\n",
       "    }\n",
       "\n",
       "    .dataframe thead th {\n",
       "        text-align: right;\n",
       "    }\n",
       "</style>\n",
       "<table border=\"1\" class=\"dataframe\">\n",
       "  <thead>\n",
       "    <tr style=\"text-align: right;\">\n",
       "      <th></th>\n",
       "      <th>Name</th>\n",
       "      <th>dtypes</th>\n",
       "      <th>Missing</th>\n",
       "      <th>Missing(% of Total values)</th>\n",
       "      <th>Uniques</th>\n",
       "      <th>First Value</th>\n",
       "      <th>Second Value</th>\n",
       "    </tr>\n",
       "  </thead>\n",
       "  <tbody>\n",
       "    <tr>\n",
       "      <th>0</th>\n",
       "      <td>Datetime</td>\n",
       "      <td>datetime64[ns]</td>\n",
       "      <td>0</td>\n",
       "      <td>0.0</td>\n",
       "      <td>494</td>\n",
       "      <td>2012-08-25 00:00:00</td>\n",
       "      <td>2012-08-26 00:00:00</td>\n",
       "    </tr>\n",
       "    <tr>\n",
       "      <th>1</th>\n",
       "      <td>Count</td>\n",
       "      <td>float64</td>\n",
       "      <td>0</td>\n",
       "      <td>0.0</td>\n",
       "      <td>415</td>\n",
       "      <td>3.166667</td>\n",
       "      <td>3.666667</td>\n",
       "    </tr>\n",
       "  </tbody>\n",
       "</table>\n",
       "</div>"
      ],
      "text/plain": [
       "       Name          dtypes  Missing  Missing(% of Total values)  Uniques  \\\n",
       "0  Datetime  datetime64[ns]        0                         0.0      494   \n",
       "1     Count         float64        0                         0.0      415   \n",
       "\n",
       "           First Value         Second Value  \n",
       "0  2012-08-25 00:00:00  2012-08-26 00:00:00  \n",
       "1             3.166667             3.666667  "
      ]
     },
     "execution_count": 4,
     "metadata": {},
     "output_type": "execute_result"
    }
   ],
   "source": [
    "resumetable(df)"
   ]
  },
  {
   "cell_type": "markdown",
   "metadata": {},
   "source": [
    "### Splitting the data into train and test"
   ]
  },
  {
   "cell_type": "code",
   "execution_count": 5,
   "metadata": {},
   "outputs": [
    {
     "data": {
      "text/html": [
       "<div>\n",
       "<style scoped>\n",
       "    .dataframe tbody tr th:only-of-type {\n",
       "        vertical-align: middle;\n",
       "    }\n",
       "\n",
       "    .dataframe tbody tr th {\n",
       "        vertical-align: top;\n",
       "    }\n",
       "\n",
       "    .dataframe thead th {\n",
       "        text-align: right;\n",
       "    }\n",
       "</style>\n",
       "<table border=\"1\" class=\"dataframe\">\n",
       "  <thead>\n",
       "    <tr style=\"text-align: right;\">\n",
       "      <th></th>\n",
       "      <th>Datetime</th>\n",
       "      <th>Count</th>\n",
       "    </tr>\n",
       "  </thead>\n",
       "  <tbody>\n",
       "    <tr>\n",
       "      <th>444</th>\n",
       "      <td>2013-11-12</td>\n",
       "      <td>135.916667</td>\n",
       "    </tr>\n",
       "    <tr>\n",
       "      <th>445</th>\n",
       "      <td>2013-11-13</td>\n",
       "      <td>178.083333</td>\n",
       "    </tr>\n",
       "    <tr>\n",
       "      <th>446</th>\n",
       "      <td>2013-11-14</td>\n",
       "      <td>165.916667</td>\n",
       "    </tr>\n",
       "    <tr>\n",
       "      <th>447</th>\n",
       "      <td>2013-11-15</td>\n",
       "      <td>120.833333</td>\n",
       "    </tr>\n",
       "    <tr>\n",
       "      <th>448</th>\n",
       "      <td>2013-11-16</td>\n",
       "      <td>80.333333</td>\n",
       "    </tr>\n",
       "  </tbody>\n",
       "</table>\n",
       "</div>"
      ],
      "text/plain": [
       "      Datetime       Count\n",
       "444 2013-11-12  135.916667\n",
       "445 2013-11-13  178.083333\n",
       "446 2013-11-14  165.916667\n",
       "447 2013-11-15  120.833333\n",
       "448 2013-11-16   80.333333"
      ]
     },
     "execution_count": 5,
     "metadata": {},
     "output_type": "execute_result"
    }
   ],
   "source": [
    "test.head()"
   ]
  },
  {
   "cell_type": "code",
   "execution_count": 6,
   "metadata": {},
   "outputs": [
    {
     "data": {
      "text/html": [
       "<div>\n",
       "<style scoped>\n",
       "    .dataframe tbody tr th:only-of-type {\n",
       "        vertical-align: middle;\n",
       "    }\n",
       "\n",
       "    .dataframe tbody tr th {\n",
       "        vertical-align: top;\n",
       "    }\n",
       "\n",
       "    .dataframe thead th {\n",
       "        text-align: right;\n",
       "    }\n",
       "</style>\n",
       "<table border=\"1\" class=\"dataframe\">\n",
       "  <thead>\n",
       "    <tr style=\"text-align: right;\">\n",
       "      <th></th>\n",
       "      <th>Datetime</th>\n",
       "      <th>Count</th>\n",
       "    </tr>\n",
       "  </thead>\n",
       "  <tbody>\n",
       "    <tr>\n",
       "      <th>444</th>\n",
       "      <td>2013-11-12</td>\n",
       "      <td>135.916667</td>\n",
       "    </tr>\n",
       "    <tr>\n",
       "      <th>445</th>\n",
       "      <td>2013-11-13</td>\n",
       "      <td>178.083333</td>\n",
       "    </tr>\n",
       "    <tr>\n",
       "      <th>446</th>\n",
       "      <td>2013-11-14</td>\n",
       "      <td>165.916667</td>\n",
       "    </tr>\n",
       "    <tr>\n",
       "      <th>447</th>\n",
       "      <td>2013-11-15</td>\n",
       "      <td>120.833333</td>\n",
       "    </tr>\n",
       "    <tr>\n",
       "      <th>448</th>\n",
       "      <td>2013-11-16</td>\n",
       "      <td>80.333333</td>\n",
       "    </tr>\n",
       "  </tbody>\n",
       "</table>\n",
       "</div>"
      ],
      "text/plain": [
       "      Datetime       Count\n",
       "444 2013-11-12  135.916667\n",
       "445 2013-11-13  178.083333\n",
       "446 2013-11-14  165.916667\n",
       "447 2013-11-15  120.833333\n",
       "448 2013-11-16   80.333333"
      ]
     },
     "execution_count": 6,
     "metadata": {},
     "output_type": "execute_result"
    }
   ],
   "source": [
    "y_hat.head()"
   ]
  },
  {
   "cell_type": "markdown",
   "metadata": {},
   "source": [
    "# Autoregressive Models"
   ]
  },
  {
   "cell_type": "markdown",
   "metadata": {},
   "source": [
    "By plotting ACF and PACF, we can find a suitable model with help of this table given below :-\n",
    "\n",
    "| Model | ACF Pattern | PACF Pattern |\n",
    "| --- | --- | --- |\n",
    "| AR(p) | Exponential decay or damped sine wave pattern or both | Significant spike through first lag |\n",
    "| MA(q) | Significant spike through first lag | Exponential decay |\n",
    "| ARMA(1,1) | Exponential decay from lag 1 | Exponential decay from lag 1 |\n",
    "| ARMA(p,q) | Exponential decay | Exponential decay |"
   ]
  },
  {
   "cell_type": "markdown",
   "metadata": {},
   "source": [
    "### 1) AR()"
   ]
  },
  {
   "cell_type": "code",
   "execution_count": 7,
   "metadata": {},
   "outputs": [
    {
     "name": "stdout",
     "output_type": "stream",
     "text": [
      "RMSE = 30.95429224296152\n"
     ]
    }
   ],
   "source": [
    "def AR(lags, method = \"AR\"):\n",
    "    global y_hat\n",
    "    model = AutoReg(train[time_dependent_variable], lags=lags)\n",
    "    fit1 = model.fit()\n",
    "    \n",
    "    y_hat[method] = fit1.predict(start=len(train), end=len(train)+len(test)-1, dynamic=False)\n",
    "    rmse = sqrt(mean_squared_error(test[time_dependent_variable], y_hat[method]))\n",
    "    print('RMSE = '+str(rmse))\n",
    "    \n",
    "AR(lags= 28)"
   ]
  },
  {
   "cell_type": "code",
   "execution_count": 8,
   "metadata": {},
   "outputs": [
    {
     "name": "stdout",
     "output_type": "stream",
     "text": [
      "RMSE = 110.26167600347945\n",
      "RMSE = 96.01127677565098\n",
      "RMSE = 97.59813586387553\n",
      "RMSE = 83.47706248931061\n",
      "RMSE = 77.50361255899846\n",
      "RMSE = 61.929723386845914\n",
      "RMSE = 40.09051187634783\n",
      "RMSE = 34.02351793877164\n",
      "RMSE = 33.94358886068561\n",
      "RMSE = 33.81071939565093\n",
      "RMSE = 36.39006370024153\n",
      "RMSE = 34.17517468310582\n",
      "RMSE = 34.217079375778916\n",
      "RMSE = 31.948818070273948\n",
      "RMSE = 30.226091252770193\n",
      "RMSE = 30.296375244509594\n",
      "RMSE = 29.680632984027156\n",
      "RMSE = 29.618787599172524\n",
      "RMSE = 29.67801089810546\n",
      "RMSE = 30.034622535062315\n",
      "RMSE = 29.728131384824206\n",
      "RMSE = 29.263034747243687\n",
      "RMSE = 29.054796124289403\n",
      "RMSE = 29.03157189646809\n",
      "RMSE = 29.22634577500091\n",
      "RMSE = 29.033924309797076\n",
      "RMSE = 29.507836537371045\n",
      "RMSE = 29.499430863819395\n",
      "RMSE = 30.95429224296152\n",
      "RMSE = 30.467200212364386\n",
      "Best ARNone RMSE=inf\n"
     ]
    }
   ],
   "source": [
    "def evaluate_models(p_values=range(30)):\n",
    "    best_score, best_cfg = float(\"inf\"), None\n",
    "    for p in p_values:\n",
    "        try:\n",
    "            rmse = AR(p)\n",
    "            if rmse < best_score:\n",
    "                best_score, best_cfg = rmse, p\n",
    "            print('AR%s RMSE=%.3f' % (p,rmse))\n",
    "        except:\n",
    "            continue\n",
    "    print('Best AR%s RMSE=%.3f' % (best_cfg, best_score))\n",
    "    \n",
    "evaluate_models(p_values=range(30))"
   ]
  },
  {
   "cell_type": "code",
   "execution_count": 9,
   "metadata": {},
   "outputs": [
    {
     "data": {
      "text/html": [
       "<div>\n",
       "<style scoped>\n",
       "    .dataframe tbody tr th:only-of-type {\n",
       "        vertical-align: middle;\n",
       "    }\n",
       "\n",
       "    .dataframe tbody tr th {\n",
       "        vertical-align: top;\n",
       "    }\n",
       "\n",
       "    .dataframe thead th {\n",
       "        text-align: right;\n",
       "    }\n",
       "</style>\n",
       "<table border=\"1\" class=\"dataframe\">\n",
       "  <thead>\n",
       "    <tr style=\"text-align: right;\">\n",
       "      <th></th>\n",
       "      <th>Datetime</th>\n",
       "      <th>Count</th>\n",
       "      <th>AR</th>\n",
       "    </tr>\n",
       "  </thead>\n",
       "  <tbody>\n",
       "    <tr>\n",
       "      <th>444</th>\n",
       "      <td>2013-11-12</td>\n",
       "      <td>135.916667</td>\n",
       "      <td>191.982715</td>\n",
       "    </tr>\n",
       "    <tr>\n",
       "      <th>445</th>\n",
       "      <td>2013-11-13</td>\n",
       "      <td>178.083333</td>\n",
       "      <td>171.809835</td>\n",
       "    </tr>\n",
       "    <tr>\n",
       "      <th>446</th>\n",
       "      <td>2013-11-14</td>\n",
       "      <td>165.916667</td>\n",
       "      <td>181.780863</td>\n",
       "    </tr>\n",
       "    <tr>\n",
       "      <th>447</th>\n",
       "      <td>2013-11-15</td>\n",
       "      <td>120.833333</td>\n",
       "      <td>148.364661</td>\n",
       "    </tr>\n",
       "    <tr>\n",
       "      <th>448</th>\n",
       "      <td>2013-11-16</td>\n",
       "      <td>80.333333</td>\n",
       "      <td>102.617067</td>\n",
       "    </tr>\n",
       "  </tbody>\n",
       "</table>\n",
       "</div>"
      ],
      "text/plain": [
       "      Datetime       Count          AR\n",
       "444 2013-11-12  135.916667  191.982715\n",
       "445 2013-11-13  178.083333  171.809835\n",
       "446 2013-11-14  165.916667  181.780863\n",
       "447 2013-11-15  120.833333  148.364661\n",
       "448 2013-11-16   80.333333  102.617067"
      ]
     },
     "execution_count": 9,
     "metadata": {},
     "output_type": "execute_result"
    }
   ],
   "source": [
    "y_hat.head()"
   ]
  },
  {
   "cell_type": "code",
   "execution_count": 10,
   "metadata": {},
   "outputs": [
    {
     "data": {
      "image/png": "[encoded data removed]",
      "text/plain": [
       "<Figure size 864x576 with 1 Axes>"
      ]
     },
     "metadata": {},
     "output_type": "display_data"
    },
    {
     "name": "stdout",
     "output_type": "stream",
     "text": [
      "Evaluation metric results:-\n",
      "MSE is : 928.2502887802964\n",
      "MAE is : 23.64501988810756\n",
      "RMSE is : 30.467200212364386\n",
      "MAPE is : 18.302085753636305\n",
      "R2 is : 0.509037931335476\n",
      "\n"
     ]
    }
   ],
   "source": [
    "plot_with_metric(method= 'AR' )"
   ]
  },
  {
   "cell_type": "markdown",
   "metadata": {},
   "source": [
    "# MA"
   ]
  },
  {
   "cell_type": "code",
   "execution_count": null,
   "metadata": {},
   "outputs": [],
   "source": []
  },
  {
   "cell_type": "markdown",
   "metadata": {},
   "source": [
    "# ARMA"
   ]
  },
  {
   "cell_type": "code",
   "execution_count": 11,
   "metadata": {},
   "outputs": [
    {
     "ename": "TypeError",
     "evalue": "ARMA() got an unexpected keyword argument 'order'",
     "output_type": "error",
     "traceback": [
      "\u001b[1;31m---------------------------------------------------------------------------\u001b[0m",
      "\u001b[1;31mTypeError\u001b[0m                                 Traceback (most recent call last)",
      "\u001b[1;32m<ipython-input-11-694822bf40f7>\u001b[0m in \u001b[0;36m<module>\u001b[1;34m\u001b[0m\n\u001b[0;32m      7\u001b[0m \u001b[1;33m\u001b[0m\u001b[0m\n\u001b[0;32m      8\u001b[0m \u001b[1;33m\u001b[0m\u001b[0m\n\u001b[1;32m----> 9\u001b[1;33m \u001b[0mARMA\u001b[0m\u001b[1;33m(\u001b[0m\u001b[0mAR\u001b[0m\u001b[1;33m=\u001b[0m \u001b[1;36m1\u001b[0m\u001b[1;33m,\u001b[0m\u001b[0mMA\u001b[0m \u001b[1;33m=\u001b[0m \u001b[1;36m1\u001b[0m\u001b[1;33m,\u001b[0m \u001b[0mmethod\u001b[0m \u001b[1;33m=\u001b[0m \u001b[1;34m\"ARMA\"\u001b[0m\u001b[1;33m)\u001b[0m\u001b[1;33m\u001b[0m\u001b[1;33m\u001b[0m\u001b[0m\n\u001b[0m",
      "\u001b[1;32m<ipython-input-11-694822bf40f7>\u001b[0m in \u001b[0;36mARMA\u001b[1;34m(AR, MA, method)\u001b[0m\n\u001b[0;32m      1\u001b[0m \u001b[1;32mdef\u001b[0m \u001b[0mARMA\u001b[0m\u001b[1;33m(\u001b[0m\u001b[0mAR\u001b[0m\u001b[1;33m,\u001b[0m\u001b[0mMA\u001b[0m\u001b[1;33m,\u001b[0m \u001b[0mmethod\u001b[0m \u001b[1;33m=\u001b[0m \u001b[1;34m\"ARMA\"\u001b[0m\u001b[1;33m)\u001b[0m\u001b[1;33m:\u001b[0m\u001b[1;33m\u001b[0m\u001b[1;33m\u001b[0m\u001b[0m\n\u001b[0;32m      2\u001b[0m     \u001b[1;32mglobal\u001b[0m \u001b[0my_hat\u001b[0m\u001b[1;33m\u001b[0m\u001b[1;33m\u001b[0m\u001b[0m\n\u001b[1;32m----> 3\u001b[1;33m     \u001b[0mmodel\u001b[0m \u001b[1;33m=\u001b[0m \u001b[0mARMA\u001b[0m\u001b[1;33m(\u001b[0m\u001b[0mtrain\u001b[0m\u001b[1;33m[\u001b[0m\u001b[0mtime_dependent_variable\u001b[0m\u001b[1;33m]\u001b[0m\u001b[1;33m,\u001b[0m \u001b[0morder\u001b[0m\u001b[1;33m=\u001b[0m\u001b[1;33m(\u001b[0m\u001b[0mAR\u001b[0m\u001b[1;33m,\u001b[0m\u001b[0mMA\u001b[0m\u001b[1;33m)\u001b[0m\u001b[1;33m)\u001b[0m\u001b[1;33m\u001b[0m\u001b[1;33m\u001b[0m\u001b[0m\n\u001b[0m\u001b[0;32m      4\u001b[0m     \u001b[0mfit1\u001b[0m \u001b[1;33m=\u001b[0m \u001b[0mmodel\u001b[0m\u001b[1;33m.\u001b[0m\u001b[0mfit\u001b[0m\u001b[1;33m(\u001b[0m\u001b[0mdisp\u001b[0m\u001b[1;33m=\u001b[0m\u001b[1;32mFalse\u001b[0m\u001b[1;33m)\u001b[0m\u001b[1;33m\u001b[0m\u001b[1;33m\u001b[0m\u001b[0m\n\u001b[0;32m      5\u001b[0m \u001b[1;33m\u001b[0m\u001b[0m\n",
      "\u001b[1;31mTypeError\u001b[0m: ARMA() got an unexpected keyword argument 'order'"
     ]
    }
   ],
   "source": [
    "def ARMA(AR,MA, method = \"ARMA\"):\n",
    "    global y_hat\n",
    "    model = ARMA(train[time_dependent_variable], order=(AR,MA))\n",
    "    fit1 = model.fit(disp=False)\n",
    "    \n",
    "    y_hat[method] = fit1.predict(start=len(train), end=len(train)+len(test)-1, dynamic=False)\n",
    "    \n",
    "    \n",
    "ARMA(AR= 1,MA = 1, method = \"ARMA\")"
   ]
  },
  {
   "cell_type": "markdown",
   "metadata": {},
   "source": [
    "m refers to the number of periods in each season.\n",
    "\n",
    "• 7 → Daily\n",
    "\n",
    "• 12 → Monthly\n",
    "\n",
    "• 52 → Weekly\n",
    "\n",
    "• 4 → Quarterly\n",
    "\n",
    "• 1 → Annual (non-seasonal)"
   ]
  },
  {
   "cell_type": "code",
   "execution_count": 13,
   "metadata": {},
   "outputs": [
    {
     "name": "stdout",
     "output_type": "stream",
     "text": [
      "Best ARIMANone RMSE=inf\n"
     ]
    }
   ],
   "source": [
    "# evaluate combinations of p, d and q values for an ARIMA model\n",
    "def evaluate_models(p_values=range(4), d_values=range(2), q_values=range(4), P_values=range(4), D_values=range(2), Q_values=range(4)):\n",
    "    best_score, best_cfg = float(\"inf\"), None\n",
    "#for m in [1, 4,7,12,52]:\n",
    "    for p in p_values:\n",
    "        for d in d_values:\n",
    "            for q in q_values:\n",
    "                    for P in P_values:\n",
    "                        for D in D_values:\n",
    "                            for Q in Q_values:\n",
    "                                order = (p,d,q,P,D,Q)\n",
    "                                try:\n",
    "                                    rmse = ARIMA_forecasting(*order)\n",
    "                                    if rmse < best_score:\n",
    "                                        best_score, best_cfg = rmse, order\n",
    "                                    print('ARIMA%s RMSE=%.3f' % (order,rmse))\n",
    "                                except:\n",
    "                                    continue\n",
    "    print('Best ARIMA%s RMSE=%.3f' % (best_cfg, best_score))\n",
    "    \n",
    "evaluate_models()"
   ]
  },
  {
   "cell_type": "code",
   "execution_count": null,
   "metadata": {},
   "outputs": [],
   "source": [
    "import pmdarima as pmd\n",
    "\n",
    "def arimamodel():\n",
    "    autoarima_model = pmd.auto_arima(train[time_dependent_variable], \n",
    "                              start_p=1, \n",
    "                              start_q=1,\n",
    "                               max_p=7, max_q=7, seasonal=False,\n",
    "                               d=None, trace=True,error_action='ignore',\n",
    "                              suppress_warnings=True,stepwise=True)\n",
    "    return autoarima_model\n"
   ]
  },
  {
   "cell_type": "markdown",
   "metadata": {},
   "source": [
    "• Pmdarima (for py + arima) is a statistical library designed to fill the void in Python’s time-series analysis capabilities, which is the equivalent of R’s auto.arima"
   ]
  },
  {
   "cell_type": "code",
   "execution_count": null,
   "metadata": {},
   "outputs": [],
   "source": [
    "plot_with_metric(method=  \"Auto_ARIMA\")"
   ]
  },
  {
   "cell_type": "markdown",
   "metadata": {},
   "source": [
    "Seasonal ARIMA using Pmdarima Library"
   ]
  },
  {
   "cell_type": "code",
   "execution_count": null,
   "metadata": {},
   "outputs": [],
   "source": [
    "def sarimamodel():\n",
    "    auto_sarima_model = pmd.auto_arima(train[time_dependent_variable], \n",
    "                                   start_p=1, start_q=1,\n",
    "                                    max_p=7, max_q=7, seasonal=True, start_P=1,\n",
    "                                    start_Q=1, max_P=7, max_D=7, max_Q=7, m=m,\n",
    "                                    d=None, D=None, trace=True, error_action='ignore', \n",
    "                                    suppress_warnings=True,\n",
    "                                    stepwise=True)\n",
    "\n",
    "    return auto_sarima_model"
   ]
  },
  {
   "cell_type": "code",
   "execution_count": null,
   "metadata": {},
   "outputs": [],
   "source": [
    "# for m in [1, 4,7,12,52]:\n",
    "#     print(\"=\"*100)\n",
    "#     print(f' Fitting SARIMA for Seasonal value m = {str(m)}')\n",
    "#     auto_arima(method = \"Auto_SARIMA\", model = sarimamodel())\n"
   ]
  },
  {
   "cell_type": "code",
   "execution_count": null,
   "metadata": {},
   "outputs": [],
   "source": [
    "m = 7\n",
    "auto_arima(method = \"Auto_SARIMA\", model = sarimamodel())"
   ]
  },
  {
   "cell_type": "code",
   "execution_count": null,
   "metadata": {},
   "outputs": [],
   "source": [
    "plot_with_metric(method=  \"Auto_SARIMA\")"
   ]
  }
 ],
 "metadata": {
  "kernelspec": {
   "display_name": "Python 3",
   "language": "python",
   "name": "python3"
  },
  "language_info": {
   "codemirror_mode": {
    "name": "ipython",
    "version": 3
   },
   "file_extension": ".py",
   "mimetype": "text/x-python",
   "name": "python",
   "nbconvert_exporter": "python",
   "pygments_lexer": "ipython3",
   "version": "3.8.8"
  }
 },
 "nbformat": 4,
 "nbformat_minor": 2
}
