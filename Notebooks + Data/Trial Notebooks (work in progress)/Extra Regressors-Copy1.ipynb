{
 "cells": [
  {
   "cell_type": "markdown",
   "metadata": {},
   "source": [
    "# Time Series Forecasting - Naive Approach"
   ]
  },
  {
   "cell_type": "code",
   "execution_count": 1,
   "metadata": {},
   "outputs": [],
   "source": [
    "#%pip install pmdarima\n",
    "#%pip install sktime\n",
    "import pandas as pd \n",
    "import numpy as np \n",
    "import matplotlib.pyplot as plt\n",
    "import datetime\n",
    "import math\n",
    "import warnings\n",
    "\n",
    "from statsmodels.tsa.ar_model import AR\n",
    "from statsmodels.tsa.ar_model import AutoReg, ar_select_order\n",
    "import pmdarima as pmd\n",
    "from sklearn.metrics import mean_squared_error\n",
    "from math import sqrt\n",
    "from statsmodels.tsa.arima_model import ARMA, ARIMA\n",
    "from statsmodels.tsa.statespace.sarimax import SARIMAX\n",
    "warnings.filterwarnings(\"ignore\")\n",
    "plt.style.use('fivethirtyeight')"
   ]
  },
  {
   "cell_type": "code",
   "execution_count": 2,
   "metadata": {},
   "outputs": [],
   "source": [
    "# In order to use this notebook for univarate time series analysis :-\n",
    "# 1) The primary requirement is not to have missing values or categorial(string) data for time_dependent variable \n",
    "#    and time_column.\n",
    "# 2) This cell requires information on file_name (only csv), time_dependent_variable, time_column, date_time format (frmt)\n",
    "#    and resample grain(X). After filling the required information correctly, you can run all the cells (Cell ---> Run All)\n",
    "# 3) Example :-\n",
    "#   file_name               = \"JetRail Avg Hourly Traffic Data - 2012-2013.csv\"\n",
    "#   time_dependent_variable = \"Count\"    (column name in your dataset)\n",
    "#   time_column             = \"Datetime\" (column name in your dataset)\n",
    "#   frmt                    = \"%Y-%m-%d\"\n",
    "#   X                       = \"D\" \n",
    "\n",
    "file_name = \"JetRail Avg Hourly Traffic Data - 2012-2013.csv\"\n",
    "time_dependent_variable = \"Count\"\n",
    "time_column = \"Datetime\"\n",
    "frmt =  \"%Y-%m-%d\"\n",
    "Resample_grain = \"D\"\n",
    "split= .9          #train and test split"
   ]
  },
  {
   "cell_type": "markdown",
   "metadata": {},
   "source": [
    "### Reading the csv file"
   ]
  },
  {
   "cell_type": "code",
   "execution_count": 3,
   "metadata": {},
   "outputs": [],
   "source": [
    "def data(method = \"csv\"):\n",
    "    df = pd.read_csv(file_name, parse_dates= True)   \n",
    "    df[time_column] = pd.to_datetime(df[time_column],format=frmt) \n",
    "    df.index = df[time_column]\n",
    "    df = df.resample(Resample_grain).mean()\n",
    "    df.reset_index(inplace= True)\n",
    "    return df\n",
    "df = data()"
   ]
  },
  {
   "cell_type": "markdown",
   "metadata": {},
   "source": [
    "### Splitting the data into train and test"
   ]
  },
  {
   "cell_type": "code",
   "execution_count": 4,
   "metadata": {},
   "outputs": [],
   "source": [
    "def train_test_split_perc(df):\n",
    "    total_size=len(df)\n",
    "    train_size=math.floor(split*total_size)  #(70% Dataset)\n",
    "    train=df.head(train_size)\n",
    "    test=df.tail(len(df) -train_size)\n",
    "    return train, test\n"
   ]
  },
  {
   "cell_type": "code",
   "execution_count": 5,
   "metadata": {},
   "outputs": [],
   "source": [
    "def train_test_split_date(df, split_date):\n",
    "    split_date = '2017-01-01'\n",
    "    train = df.loc[df.index <= split_date].copy()\n",
    "    test = df.loc[df.index > split_date].copy()\n",
    "    return train, test"
   ]
  },
  {
   "cell_type": "markdown",
   "metadata": {},
   "source": [
    "### Plot methods"
   ]
  },
  {
   "cell_type": "code",
   "execution_count": 6,
   "metadata": {},
   "outputs": [],
   "source": [
    " def plot(method):\n",
    "    plt.figure(figsize=(12,8))\n",
    "    plt.plot(train[time_column], train[time_dependent_variable], label='Train')\n",
    "    plt.plot(test[time_column],test[time_dependent_variable], label='Test')\n",
    "    plt.plot(y_hat[time_column],y_hat[method], label= method +' forecast')\n",
    "    plt.legend(loc='best')\n",
    "    plt.title(method + ' forecast')\n",
    "    plt.show()\n",
    "    rms = sqrt(mean_squared_error(test[time_dependent_variable], y_hat[method]))\n",
    "    print('RMSE = '+str(rms))\n"
   ]
  },
  {
   "cell_type": "code",
   "execution_count": 7,
   "metadata": {},
   "outputs": [],
   "source": [
    "def diagnostic_plot(model_fit, lags= 30):\n",
    "    fig = plt.figure(figsize=(16, 9))\n",
    "    fig = model_fit.plot_diagnostics(fig=fig, lags=lags)\n",
    "    print(model_fit.summary())"
   ]
  },
  {
   "cell_type": "markdown",
   "metadata": {},
   "source": [
    "### Exogeneous variables using date features (Metadata)"
   ]
  },
  {
   "cell_type": "code",
   "execution_count": 8,
   "metadata": {},
   "outputs": [],
   "source": [
    "def date_features(df):\n",
    "    df['year'] = df[time_column].dt.year\n",
    "    df['quarter'] = df[time_column].dt.quarter\n",
    "    df['month'] = df[time_column].dt.month\n",
    "    df['week_day'] = df[time_column].dt.weekday\n",
    "    return df\n",
    "df= date_features(df)"
   ]
  },
  {
   "cell_type": "code",
   "execution_count": 9,
   "metadata": {},
   "outputs": [
    {
     "data": {
      "text/html": [
       "<div>\n",
       "<style scoped>\n",
       "    .dataframe tbody tr th:only-of-type {\n",
       "        vertical-align: middle;\n",
       "    }\n",
       "\n",
       "    .dataframe tbody tr th {\n",
       "        vertical-align: top;\n",
       "    }\n",
       "\n",
       "    .dataframe thead th {\n",
       "        text-align: right;\n",
       "    }\n",
       "</style>\n",
       "<table border=\"1\" class=\"dataframe\">\n",
       "  <thead>\n",
       "    <tr style=\"text-align: right;\">\n",
       "      <th></th>\n",
       "      <th>Datetime</th>\n",
       "      <th>ID</th>\n",
       "      <th>Count</th>\n",
       "      <th>year</th>\n",
       "      <th>quarter</th>\n",
       "      <th>month</th>\n",
       "      <th>week_day</th>\n",
       "    </tr>\n",
       "  </thead>\n",
       "  <tbody>\n",
       "    <tr>\n",
       "      <th>0</th>\n",
       "      <td>2012-08-25</td>\n",
       "      <td>11.5</td>\n",
       "      <td>3.166667</td>\n",
       "      <td>2012</td>\n",
       "      <td>3</td>\n",
       "      <td>8</td>\n",
       "      <td>5</td>\n",
       "    </tr>\n",
       "    <tr>\n",
       "      <th>1</th>\n",
       "      <td>2012-08-26</td>\n",
       "      <td>35.5</td>\n",
       "      <td>3.666667</td>\n",
       "      <td>2012</td>\n",
       "      <td>3</td>\n",
       "      <td>8</td>\n",
       "      <td>6</td>\n",
       "    </tr>\n",
       "    <tr>\n",
       "      <th>2</th>\n",
       "      <td>2012-08-27</td>\n",
       "      <td>59.5</td>\n",
       "      <td>2.583333</td>\n",
       "      <td>2012</td>\n",
       "      <td>3</td>\n",
       "      <td>8</td>\n",
       "      <td>0</td>\n",
       "    </tr>\n",
       "    <tr>\n",
       "      <th>3</th>\n",
       "      <td>2012-08-28</td>\n",
       "      <td>83.5</td>\n",
       "      <td>2.416667</td>\n",
       "      <td>2012</td>\n",
       "      <td>3</td>\n",
       "      <td>8</td>\n",
       "      <td>1</td>\n",
       "    </tr>\n",
       "    <tr>\n",
       "      <th>4</th>\n",
       "      <td>2012-08-29</td>\n",
       "      <td>107.5</td>\n",
       "      <td>2.500000</td>\n",
       "      <td>2012</td>\n",
       "      <td>3</td>\n",
       "      <td>8</td>\n",
       "      <td>2</td>\n",
       "    </tr>\n",
       "  </tbody>\n",
       "</table>\n",
       "</div>"
      ],
      "text/plain": [
       "    Datetime     ID     Count  year  quarter  month  week_day\n",
       "0 2012-08-25   11.5  3.166667  2012        3      8         5\n",
       "1 2012-08-26   35.5  3.666667  2012        3      8         6\n",
       "2 2012-08-27   59.5  2.583333  2012        3      8         0\n",
       "3 2012-08-28   83.5  2.416667  2012        3      8         1\n",
       "4 2012-08-29  107.5  2.500000  2012        3      8         2"
      ]
     },
     "execution_count": 9,
     "metadata": {},
     "output_type": "execute_result"
    }
   ],
   "source": [
    "df.head()"
   ]
  },
  {
   "cell_type": "markdown",
   "metadata": {},
   "source": [
    "### Dataframe with Extra Regressors (Metadata)"
   ]
  },
  {
   "cell_type": "markdown",
   "metadata": {},
   "source": [
    "This function will reorder your columns with time column as first column and time dependent variable column as the last column.\n",
    "For more information, https://stackoverflow.com/questions/35321812/move-column-in-pandas-dataframe "
   ]
  },
  {
   "cell_type": "code",
   "execution_count": 10,
   "metadata": {},
   "outputs": [
    {
     "data": {
      "text/html": [
       "<div>\n",
       "<style scoped>\n",
       "    .dataframe tbody tr th:only-of-type {\n",
       "        vertical-align: middle;\n",
       "    }\n",
       "\n",
       "    .dataframe tbody tr th {\n",
       "        vertical-align: top;\n",
       "    }\n",
       "\n",
       "    .dataframe thead th {\n",
       "        text-align: right;\n",
       "    }\n",
       "</style>\n",
       "<table border=\"1\" class=\"dataframe\">\n",
       "  <thead>\n",
       "    <tr style=\"text-align: right;\">\n",
       "      <th></th>\n",
       "      <th>Datetime</th>\n",
       "      <th>ID</th>\n",
       "      <th>year</th>\n",
       "      <th>quarter</th>\n",
       "      <th>month</th>\n",
       "      <th>week_day</th>\n",
       "      <th>Count</th>\n",
       "    </tr>\n",
       "  </thead>\n",
       "  <tbody>\n",
       "    <tr>\n",
       "      <th>0</th>\n",
       "      <td>2012-08-25</td>\n",
       "      <td>11.5</td>\n",
       "      <td>2012</td>\n",
       "      <td>3</td>\n",
       "      <td>8</td>\n",
       "      <td>5</td>\n",
       "      <td>3.166667</td>\n",
       "    </tr>\n",
       "    <tr>\n",
       "      <th>1</th>\n",
       "      <td>2012-08-26</td>\n",
       "      <td>35.5</td>\n",
       "      <td>2012</td>\n",
       "      <td>3</td>\n",
       "      <td>8</td>\n",
       "      <td>6</td>\n",
       "      <td>3.666667</td>\n",
       "    </tr>\n",
       "    <tr>\n",
       "      <th>2</th>\n",
       "      <td>2012-08-27</td>\n",
       "      <td>59.5</td>\n",
       "      <td>2012</td>\n",
       "      <td>3</td>\n",
       "      <td>8</td>\n",
       "      <td>0</td>\n",
       "      <td>2.583333</td>\n",
       "    </tr>\n",
       "    <tr>\n",
       "      <th>3</th>\n",
       "      <td>2012-08-28</td>\n",
       "      <td>83.5</td>\n",
       "      <td>2012</td>\n",
       "      <td>3</td>\n",
       "      <td>8</td>\n",
       "      <td>1</td>\n",
       "      <td>2.416667</td>\n",
       "    </tr>\n",
       "    <tr>\n",
       "      <th>4</th>\n",
       "      <td>2012-08-29</td>\n",
       "      <td>107.5</td>\n",
       "      <td>2012</td>\n",
       "      <td>3</td>\n",
       "      <td>8</td>\n",
       "      <td>2</td>\n",
       "      <td>2.500000</td>\n",
       "    </tr>\n",
       "  </tbody>\n",
       "</table>\n",
       "</div>"
      ],
      "text/plain": [
       "    Datetime     ID  year  quarter  month  week_day     Count\n",
       "0 2012-08-25   11.5  2012        3      8         5  3.166667\n",
       "1 2012-08-26   35.5  2012        3      8         6  3.666667\n",
       "2 2012-08-27   59.5  2012        3      8         0  2.583333\n",
       "3 2012-08-28   83.5  2012        3      8         1  2.416667\n",
       "4 2012-08-29  107.5  2012        3      8         2  2.500000"
      ]
     },
     "execution_count": 10,
     "metadata": {},
     "output_type": "execute_result"
    }
   ],
   "source": [
    "def column_reorder(df):\n",
    "    df = df[[time_column] + \n",
    "        [ col for col in df.columns if col not in [time_column, time_dependent_variable]] + \n",
    "        [time_dependent_variable]]\n",
    "    return df\n",
    "df = column_reorder(df)\n",
    "df.head()"
   ]
  },
  {
   "cell_type": "markdown",
   "metadata": {},
   "source": [
    "### Train and Test split with extra regressors"
   ]
  },
  {
   "cell_type": "code",
   "execution_count": 11,
   "metadata": {},
   "outputs": [],
   "source": [
    "train, test = train_test_split_perc(df)\n",
    "y_hat = test.copy()"
   ]
  },
  {
   "cell_type": "markdown",
   "metadata": {},
   "source": [
    "##### Calling the column_reorder() function before this function is necessary"
   ]
  },
  {
   "cell_type": "code",
   "execution_count": 12,
   "metadata": {},
   "outputs": [],
   "source": [
    "#  'i' here denotes the starting position of the extra regressors columns \n",
    "\n",
    "def extra_regressors_with_iloc(i=1):\n",
    "    exog_train = train.iloc[:,i:-1]  \n",
    "    exog_test = test.iloc[:,i:-1]\n",
    "    return exog_train, exog_test \n",
    "exog_train, exog_test = extra_regressors_with_iloc()"
   ]
  },
  {
   "cell_type": "code",
   "execution_count": 13,
   "metadata": {},
   "outputs": [],
   "source": [
    "exog_train = np.asarray(exog_train, dtype= float)\n",
    "exog_test = np.asarray(exog_test, dtype= float)\n",
    "exog = df.iloc[:,1:-1] "
   ]
  },
  {
   "cell_type": "code",
   "execution_count": 14,
   "metadata": {},
   "outputs": [],
   "source": [
    "train[time_dependent_variable] = np.asarray(train[time_dependent_variable], dtype= float)\n",
    "test[time_dependent_variable] = np.asarray(test[time_dependent_variable], dtype= float)"
   ]
  },
  {
   "cell_type": "markdown",
   "metadata": {},
   "source": [
    "Before starting with the models we can summarize the list of training and test sets :-\n",
    "- exog_train :- It contains only the exogeneous variables of the training data. (features derived from date and other time dependent variables)\n",
    "- exog_test  :- It contains only the exogeneous variables of the test data. (features derived from date and other time dependent variables)\n",
    "- train :- It contains all the variables in the training data.\n",
    "- test :- It contains all the variables in the test data.\n",
    "- y_hat :- It is a copy of test data. We will use this table for recording the predictions and evaluating the performance of different models."
   ]
  },
  {
   "cell_type": "markdown",
   "metadata": {},
   "source": [
    "# ARX"
   ]
  },
  {
   "cell_type": "code",
   "execution_count": 16,
   "metadata": {},
   "outputs": [
    {
     "name": "stdout",
     "output_type": "stream",
     "text": [
      "                            AutoReg Model Results                             \n",
      "==============================================================================\n",
      "Dep. Variable:                  Count   No. Observations:                  444\n",
      "Model:             Seas. AutoReg-X(7)   Log Likelihood               -1805.499\n",
      "Method:               Conditional MLE   S.D. of innovations             15.069\n",
      "Date:                Sun, 03 Oct 2021   AIC                              5.517\n",
      "Time:                        17:57:47   BIC                              5.704\n",
      "Sample:                             7   HQIC                             5.590\n",
      "                                  444                                         \n",
      "==============================================================================\n",
      "                 coef    std err          z      P>|z|      [0.025      0.975]\n",
      "------------------------------------------------------------------------------\n",
      "intercept  -5.753e+04   4.74e+04     -1.215      0.224    -1.5e+05    3.53e+04\n",
      "trend      -2.991e+04   2.46e+04     -1.215      0.224   -7.82e+04    1.83e+04\n",
      "seasonal.1    -1.6684      2.523     -0.661      0.508      -6.613       3.277\n",
      "seasonal.2    -2.1483      2.507     -0.857      0.391      -7.061       2.765\n",
      "seasonal.3    -3.3347      2.519     -1.324      0.185      -8.271       1.602\n",
      "seasonal.4    -1.4657      2.506     -0.585      0.559      -6.377       3.445\n",
      "seasonal.5    -4.2986      2.517     -1.708      0.088      -9.231       0.634\n",
      "Count.L1       0.4828      0.044     11.005      0.000       0.397       0.569\n",
      "Count.L2      -0.2107      0.049     -4.284      0.000      -0.307      -0.114\n",
      "Count.L3       0.0725      0.049      1.478      0.140      -0.024       0.169\n",
      "Count.L4       0.0433      0.049      0.880      0.379      -0.053       0.140\n",
      "Count.L5      -0.1631      0.050     -3.287      0.001      -0.260      -0.066\n",
      "Count.L6       0.2850      0.049      5.863      0.000       0.190       0.380\n",
      "Count.L7       0.3006      0.046      6.482      0.000       0.210       0.391\n",
      "x1          1246.3012   1025.953      1.215      0.224    -764.529    3257.132\n",
      "x2            36.3231     29.902      1.215      0.224     -22.283      94.929\n",
      "x3             0.3301      2.691      0.123      0.902      -4.944       5.604\n",
      "x4             3.6261      2.631      1.378      0.168      -1.530       8.783\n",
      "x5            -2.1253      0.425     -5.003      0.000      -2.958      -1.293\n",
      "                                    Roots                                    \n",
      "=============================================================================\n",
      "                  Real          Imaginary           Modulus         Frequency\n",
      "-----------------------------------------------------------------------------\n",
      "AR.1            1.0482           -0.0000j            1.0482           -0.0000\n",
      "AR.2            0.6762           -0.8219j            1.0643           -0.1404\n",
      "AR.3            0.6762           +0.8219j            1.0643            0.1404\n",
      "AR.4           -0.2543           -1.0827j            1.1122           -0.2867\n",
      "AR.5           -0.2543           +1.0827j            1.1122            0.2867\n",
      "AR.6           -1.4202           -0.4982j            1.5050           -0.4463\n",
      "AR.7           -1.4202           +0.4982j            1.5050            0.4463\n",
      "-----------------------------------------------------------------------------\n"
     ]
    },
    {
     "data": {
      "text/plain": [
       "30.768829866030607"
      ]
     },
     "execution_count": 16,
     "metadata": {},
     "output_type": "execute_result"
    },
    {
     "data": {
      "image/png": "[encoded data removed]",
      "text/plain": [
       "<Figure size 1152x648 with 4 Axes>"
      ]
     },
     "metadata": {},
     "output_type": "display_data"
    }
   ],
   "source": [
    "def arx(lags,seasonality_period,method = \"ARX\"):\n",
    "    \n",
    "    model = AutoReg(train[time_dependent_variable],exog=exog_train,lags=lags,trend=\"ct\",seasonal=True,period=seasonality_period)\n",
    "    fit1 = model.fit()\n",
    "    \n",
    "    diagnostic_plot(fit1, lags= 30)\n",
    "    y_hat[method] = fit1.predict(start=len(train), end=len(train)+len(test)-1, exog_oos = exog_test, dynamic=False)\n",
    "    \n",
    "    rmse = sqrt(mean_squared_error(test[time_dependent_variable], y_hat[method]))\n",
    "    return rmse\n",
    "\n",
    "arx(lags = 7,seasonality_period = 6)"
   ]
  },
  {
   "cell_type": "code",
   "execution_count": 17,
   "metadata": {},
   "outputs": [
    {
     "name": "stdout",
     "output_type": "stream",
     "text": [
      "Best ARNone RMSE=inf\n"
     ]
    }
   ],
   "source": [
    "def ar_best_params(p_values=range(40)):\n",
    "    best_score, best_cfg = float(\"inf\"), None\n",
    "    for p in p_values:\n",
    "        order = (p,)\n",
    "        try:\n",
    "            rmse = ar(*order)\n",
    "            if rmse < best_score:\n",
    "                best_score, best_cfg = rmse, order\n",
    "        except:\n",
    "            continue\n",
    "    print('Best AR%s RMSE=%.3f' % (best_cfg, best_score))\n",
    "    return best_cfg\n",
    "    \n",
    "best_cfg = ar_best_params()"
   ]
  },
  {
   "cell_type": "code",
   "execution_count": null,
   "metadata": {},
   "outputs": [],
   "source": [
    "ar(*best_cfg)"
   ]
  },
  {
   "cell_type": "code",
   "execution_count": null,
   "metadata": {},
   "outputs": [],
   "source": [
    "y_hat.head()"
   ]
  },
  {
   "cell_type": "code",
   "execution_count": null,
   "metadata": {},
   "outputs": [],
   "source": [
    "plot(method= 'AR' )"
   ]
  },
  {
   "cell_type": "markdown",
   "metadata": {},
   "source": [
    "# AR with ar_select_order"
   ]
  },
  {
   "cell_type": "markdown",
   "metadata": {},
   "source": [
    "https://www.statsmodels.org/stable/examples/notebooks/generated/autoregressions.html"
   ]
  },
  {
   "cell_type": "markdown",
   "metadata": {},
   "source": [
    "This cell sets the plotting style, registers pandas date converters for matplotlib\n",
    "Also, we set the frequency for the time series to “D” (daily) to avoid warnings when using AutoReg."
   ]
  },
  {
   "cell_type": "code",
   "execution_count": null,
   "metadata": {},
   "outputs": [],
   "source": [
    "pd.plotting.register_matplotlib_converters()"
   ]
  },
  {
   "cell_type": "code",
   "execution_count": null,
   "metadata": {},
   "outputs": [],
   "source": [
    "def autoreg_select_order(method= \"AutoReg\"):\n",
    "    sel = ar_select_order(train[time_dependent_variable],maxlag= 7, exog= exog_train,ic='aic',glob=True,trend='ct',\n",
    "          seasonal=False, old_names=False)\n",
    "    res = sel.model.fit()\n",
    "    diagnostic_plot(res)\n",
    "    y_hat[method]= res.predict(start=len(train), end=len(train)+len(test)-1, exog= exog_test, dynamic=False)\n",
    "autoreg_select_order(method= \"AutoReg\")"
   ]
  },
  {
   "cell_type": "code",
   "execution_count": null,
   "metadata": {},
   "outputs": [],
   "source": [
    "plot(method= \"AutoReg\")"
   ]
  },
  {
   "cell_type": "markdown",
   "metadata": {},
   "source": [
    "# AR with pmdarima library"
   ]
  },
  {
   "cell_type": "code",
   "execution_count": null,
   "metadata": {},
   "outputs": [],
   "source": [
    "def auto_ar(max_p = 7, method = \"Auto_AR\"):\n",
    "    model = pmd.auto_arima(train[time_dependent_variable], \n",
    "                          start_p=1, \n",
    "                          start_q=0,\n",
    "                          d = 0,\n",
    "                           max_p = max_p, max_q=0,\n",
    "                           X= exog_train,\n",
    "                           trend = trend, seasonal=False,\n",
    "                           trace=True,error_action='ignore',\n",
    "                          suppress_warnings=True,stepwise=True)\n",
    "\n",
    "    \n",
    "    \n",
    "    print(\"\\n\\n\\n\\n\")\n",
    "    print(method+\" Model Summary is : \")\n",
    "    print(model.summary())\n",
    "    print(\"\\n\\n\\n\\n\")\n",
    "    \n",
    "    y_hat.loc[:,method] = model.predict(len(test),X= exog_test)\n",
    "\n",
    "    print(\"Test Dataset After Forecast: \")\n",
    "    print(y_hat.head(5))\n",
    "    print(\"\\n\\n\\n\\n\")\n",
    "    diagnostic_plot(model)\n",
    "    \n",
    "\n",
    "    rmse = sqrt(mean_squared_error(test[time_dependent_variable], y_hat[method]))\n",
    "    print(rmse)\n",
    "    \n",
    "auto_ar()"
   ]
  },
  {
   "cell_type": "code",
   "execution_count": null,
   "metadata": {},
   "outputs": [],
   "source": [
    "plot(method = \"Auto_AR\")"
   ]
  },
  {
   "cell_type": "markdown",
   "metadata": {},
   "source": [
    "# MA"
   ]
  },
  {
   "cell_type": "code",
   "execution_count": null,
   "metadata": {},
   "outputs": [],
   "source": [
    "def ma(MA, method = \"MA\"):\n",
    "    global y_hat\n",
    "    model = ARMA(train[time_dependent_variable], order=(0, MA), exog = exog_train)\n",
    "    \n",
    "    fit1 = model.fit(disp=False)\n",
    "    \n",
    "    y_hat[method] = fit1.predict(start=len(train), end=len(train)+len(test)-1, exog= exog_test, dynamic=False)\n",
    "    rmse = sqrt(mean_squared_error(test[time_dependent_variable], y_hat[method]))\n",
    "    return rmse\n",
    "    \n",
    "ma(MA = 1, method = \"MA\")\n",
    "\n"
   ]
  },
  {
   "cell_type": "code",
   "execution_count": null,
   "metadata": {},
   "outputs": [],
   "source": [
    "def ma_best_params(q_values=range(7)):\n",
    "    best_score, best_cfg = float(\"inf\"), None\n",
    "#for m in [1, 4,7,12,52]:\n",
    "\n",
    "    for q in q_values:\n",
    "        order = (q, )\n",
    "        try:\n",
    "            rmse = ma(*order)\n",
    "            if rmse < best_score:\n",
    "                best_score, best_cfg = rmse, order\n",
    "            print('MA%s RMSE=%.3f' % (order,rmse))\n",
    "        except:\n",
    "            continue\n",
    "    print('Best MA%s RMSE=%.3f' % (best_cfg, best_score))\n",
    "    return best_cfg\n",
    "    \n",
    "best_cfg = ma_best_params()"
   ]
  },
  {
   "cell_type": "code",
   "execution_count": null,
   "metadata": {},
   "outputs": [],
   "source": [
    "ma(*best_cfg)"
   ]
  },
  {
   "cell_type": "code",
   "execution_count": null,
   "metadata": {
    "scrolled": true
   },
   "outputs": [],
   "source": [
    "plot(method = \"MA\")"
   ]
  },
  {
   "cell_type": "markdown",
   "metadata": {},
   "source": [
    "# MA with pmdarima library"
   ]
  },
  {
   "cell_type": "code",
   "execution_count": null,
   "metadata": {},
   "outputs": [],
   "source": [
    "def auto_ma(max_q = 40, method = \"Auto_MA\"):\n",
    "    model = pmd.auto_arima(train[time_dependent_variable], \n",
    "                          start_p=0, \n",
    "                          start_q=7,\n",
    "                          d = 0,\n",
    "                           X= exog_train,\n",
    "                           max_p = 0, max_q=max_q, seasonal=False,trend = \"ct\",\n",
    "                            trace=True,error_action='ignore',\n",
    "                          suppress_warnings=True,stepwise=True)\n",
    "\n",
    "    \n",
    "    \n",
    "    print(\"\\n\\n\\n\\n\")\n",
    "    print(method+\" Model Summary is : \")\n",
    "    print(model.summary())\n",
    "    print(\"\\n\\n\\n\\n\")\n",
    "    \n",
    "    y_hat[method] = model.predict(len(test), X= exog_train)\n",
    "\n",
    "    print(\"Test Dataset After Forecast: \")\n",
    "    print(y_hat.head(5))\n",
    "    print(\"\\n\\n\\n\\n\")\n",
    "#     arima_model.plot_diagnostics()\n",
    "    \n",
    "\n",
    "    print(\"rmse = \" + str(sqrt(mean_squared_error(test[time_dependent_variable], y_hat[method]))))\n",
    "    \n",
    "auto_ma()"
   ]
  },
  {
   "cell_type": "code",
   "execution_count": null,
   "metadata": {},
   "outputs": [],
   "source": [
    "plot(method = \"Auto_MA\")"
   ]
  },
  {
   "cell_type": "markdown",
   "metadata": {},
   "source": [
    "# ARMA"
   ]
  },
  {
   "cell_type": "code",
   "execution_count": null,
   "metadata": {},
   "outputs": [],
   "source": [
    "def arma(AR,MA, method = \"ARMA\"):\n",
    "    global y_hat\n",
    "    model = ARMA(train[time_dependent_variable], order=(AR,MA))\n",
    "    \n",
    "    fit1 = model.fit(disp=False)\n",
    "    print(fit1.summary())\n",
    "    \n",
    "    y_hat[method] = fit1.predict(start=len(train), end=len(train)+len(test)-1, dynamic=False)\n",
    "    rmse = sqrt(mean_squared_error(test[time_dependent_variable], y_hat[method]))\n",
    "    return rmse\n",
    "    \n",
    "arma(AR= 1,MA = 1, method = \"ARMA\")"
   ]
  },
  {
   "cell_type": "code",
   "execution_count": null,
   "metadata": {},
   "outputs": [],
   "source": [
    "def arma_best_params(p_values=range(7), q_values=range(7)):\n",
    "    best_score, best_cfg = float(\"inf\"), None\n",
    "#for m in [1, 4,7,12,52]:\n",
    "    for p in p_values:\n",
    "        for q in q_values:\n",
    "            order = (p, q)\n",
    "            try:\n",
    "                rmse = arma(*order)\n",
    "                if rmse < best_score:\n",
    "                    best_score, best_cfg = rmse, order\n",
    "            except:\n",
    "                continue\n",
    "    print('Best ARMA%s RMSE=%.3f' % (best_cfg, best_score))\n",
    "    return best_cfg\n",
    "    \n",
    "arma_best_params()"
   ]
  },
  {
   "cell_type": "code",
   "execution_count": null,
   "metadata": {},
   "outputs": [],
   "source": [
    "arma(*best_cfg)"
   ]
  },
  {
   "cell_type": "code",
   "execution_count": null,
   "metadata": {},
   "outputs": [],
   "source": [
    "plot(method = \"ARMA\")"
   ]
  },
  {
   "cell_type": "markdown",
   "metadata": {},
   "source": [
    "# ARMA with pmdarima"
   ]
  },
  {
   "cell_type": "code",
   "execution_count": null,
   "metadata": {},
   "outputs": [],
   "source": [
    "def auto_arma(max_p = 7, max_q= 7, method = \"Auto_ARMA\"):\n",
    "    model = pmd.auto_arima(train[time_dependent_variable], \n",
    "                          start_p=5, \n",
    "                          start_q=2,\n",
    "                           d = 0,\n",
    "                           max_p = max_p, max_q = max_q,\n",
    "                           seasonal=False, trend = \"ct\",\n",
    "                           trace=True,error_action='ignore',\n",
    "                          suppress_warnings=True,stepwise=True)\n",
    "\n",
    "    \n",
    "    \n",
    "    print(\"\\n\\n\\n\\n\")\n",
    "    print(method+\" Model Summary is : \")\n",
    "    print(model.summary())\n",
    "    print(\"\\n\\n\\n\\n\")\n",
    "    \n",
    "    y_hat.loc[:,method] = model.predict(len(test))\n",
    "\n",
    "    print(\"Test Dataset After Forecast: \")\n",
    "    print(y_hat.head(5))\n",
    "    print(\"\\n\\n\\n\\n\")\n",
    "#     arima_model.plot_diagnostics()\n",
    "    \n",
    "\n",
    "    print(\"rmse = \" + str(sqrt(mean_squared_error(test[time_dependent_variable], y_hat[method]))))\n",
    "    \n",
    "auto_arma()"
   ]
  },
  {
   "cell_type": "code",
   "execution_count": null,
   "metadata": {},
   "outputs": [],
   "source": [
    "plot(method = \"Auto_ARMA\")"
   ]
  },
  {
   "cell_type": "markdown",
   "metadata": {},
   "source": [
    "# ARIMA"
   ]
  },
  {
   "cell_type": "code",
   "execution_count": null,
   "metadata": {},
   "outputs": [],
   "source": [
    "def arima(p,d,q):\n",
    "\n",
    "    \n",
    "    model = ARIMA(train[time_dependent_variable], exog=None, order=(p,d,q))\n",
    "    fit1 = model.fit()\n",
    "    \n",
    "    y_hat['ARIMA'] = fit1.predict(start=len(train), end=len(train)+len(test)-1, dynamic=False, typ='levels')\n",
    "    \n",
    "    rmse = sqrt(mean_squared_error(test[time_dependent_variable], y_hat.ARIMA))\n",
    "    return rmse\n",
    "\n",
    "arima(1, 1, 1)"
   ]
  },
  {
   "cell_type": "code",
   "execution_count": null,
   "metadata": {},
   "outputs": [],
   "source": [
    "def arima_best_params(p_values=range(7), d_values=range(2), q_values=range(7)):\n",
    "    best_score, best_cfg = float(\"inf\"), None\n",
    "#for m in [1, 4,7,12,52]:\n",
    "    for p in p_values:\n",
    "        for d in d_values:\n",
    "            for q in q_values:\n",
    "                order = (p, d, q)\n",
    "                try:\n",
    "                    rmse = arima(*order)\n",
    "                    if rmse < best_score:\n",
    "                        best_score, best_cfg = rmse, order\n",
    "                    print('ARIMA%s RMSE=%.3f' % (order,rmse))\n",
    "                except:\n",
    "                    continue\n",
    "    print('Best ARIMA%s RMSE=%.3f' % (best_cfg, best_score))\n",
    "    return best_cfg\n",
    "    \n",
    "best_cfg = arima_best_params()"
   ]
  },
  {
   "cell_type": "code",
   "execution_count": null,
   "metadata": {},
   "outputs": [],
   "source": [
    "arima(*best_cfg)"
   ]
  },
  {
   "cell_type": "code",
   "execution_count": null,
   "metadata": {},
   "outputs": [],
   "source": [
    "plot(method= 'ARIMA' )"
   ]
  },
  {
   "cell_type": "markdown",
   "metadata": {},
   "source": [
    "# ARIMA With PMDARIMA LIBRARY"
   ]
  },
  {
   "cell_type": "markdown",
   "metadata": {},
   "source": [
    "• Pmdarima (for py + arima) is a statistical library designed to fill the void in Python’s time-series analysis capabilities, which is the equivalent of R’s auto.arima"
   ]
  },
  {
   "cell_type": "code",
   "execution_count": null,
   "metadata": {},
   "outputs": [],
   "source": [
    "import pmdarima as pmd\n",
    "\n",
    "def arimamodel():\n",
    "    autoarima_model = pmd.auto_arima(train[time_dependent_variable], \n",
    "                              start_p=1, \n",
    "                              start_q=1,\n",
    "                               max_p=7, max_q=7, \n",
    "                              seasonal=False, trend = trend,\n",
    "                               d=None, trace=True,error_action='ignore',\n",
    "                              suppress_warnings=True,stepwise=True)\n",
    "    return autoarima_model\n"
   ]
  },
  {
   "cell_type": "code",
   "execution_count": null,
   "metadata": {},
   "outputs": [],
   "source": [
    "def auto_arima(max_p= 7, max_q=7, method = \"Auto_ARIMA\"):\n",
    "    model = pmd.auto_arima(train[time_dependent_variable], \n",
    "                          start_p=1, \n",
    "                          start_q=1,\n",
    "                           max_p=max_p, max_q=max_q,\n",
    "                           X= exog_train,\n",
    "                           seasonal=False, \n",
    "                           d=None, trace=True,error_action='ignore',\n",
    "                          suppress_warnings=True,stepwise=True)\n",
    "\n",
    "    \n",
    "    \n",
    "    print(\"\\n\\n\\n\\n\")\n",
    "    print(method + \" Model Summary is : \")\n",
    "    print(model.summary())\n",
    "    print(\"\\n\\n\\n\\n\")\n",
    "    \n",
    "    y_hat.loc[:,method] = model.predict(len(test), X= exog_test)\n",
    "\n",
    "    print(\"Test Dataset After Forecast: \")\n",
    "    print(y_hat.head(5))\n",
    "    print(\"\\n\\n\\n\\n\")\n",
    "#     arima_model.plot_diagnostics()\n",
    "    \n",
    "\n",
    "    print(\"rmse = \" + str(sqrt(mean_squared_error(test[time_dependent_variable], y_hat[method]))))\n",
    "    \n",
    "auto_arima()"
   ]
  },
  {
   "cell_type": "code",
   "execution_count": null,
   "metadata": {},
   "outputs": [],
   "source": [
    "plot(method=  \"Auto_ARIMA\")"
   ]
  },
  {
   "cell_type": "markdown",
   "metadata": {},
   "source": [
    "# SARIMA"
   ]
  },
  {
   "cell_type": "markdown",
   "metadata": {},
   "source": [
    "'m' refers to the number of periods in each season. This 'm' has to be decided to be decided using EDA. \n",
    "\n",
    "• 7 → Daily\n",
    "\n",
    "• 12 → Monthly\n",
    "\n",
    "• 52 → Weekly\n",
    "\n",
    "• 4 → Quarterly\n",
    "\n",
    "• 1 → Annual (non-seasonal)"
   ]
  },
  {
   "cell_type": "code",
   "execution_count": null,
   "metadata": {},
   "outputs": [],
   "source": [
    "from statsmodels.tsa.statespace.sarimax import SARIMAX\n",
    "def sarima(p,d,q, P=0,D=0,Q=0,M=7):\n",
    "\n",
    "\n",
    "    \n",
    "    model = SARIMAX(train[time_dependent_variable], order=(p,d,q),  seasonal_order=(P,D,Q,M))\n",
    "    fit1 = model.fit()\n",
    "    \n",
    "#   diagnostic_plot(fit1)\n",
    "    y_hat['SARIMA'] = fit1.predict(start=len(train), end=len(train)+len(test)-1, dynamic=False, typ='levels')\n",
    "    \n",
    "    rmse = sqrt(mean_squared_error(test[time_dependent_variable], y_hat.SARIMA))\n",
    "    return rmse\n",
    "sarima(1, 1, 1, 1, 1, 3)"
   ]
  },
  {
   "cell_type": "code",
   "execution_count": null,
   "metadata": {},
   "outputs": [],
   "source": [
    "# evaluate combinations of p, d and q values for an ARIMA model\n",
    "def sarima_best_params(p_values=range(4), d_values=range(2), q_values=range(4), P_values=range(2), D_values=range(4), Q_values=range(2)):\n",
    "    best_score, best_cfg = float(\"inf\"), None\n",
    "#for m in [1, 4,7,12,52]:\n",
    "    for p in p_values:\n",
    "        for d in d_values:\n",
    "            for q in q_values:\n",
    "                    for P in P_values:\n",
    "                        for D in D_values:\n",
    "                            for Q in Q_values:\n",
    "                                order = (p,d,q,P,D,Q)\n",
    "                                try:\n",
    "                                    rmse = sarima(*order)\n",
    "                                    if rmse < best_score:\n",
    "                                        best_score, best_cfg = rmse, order\n",
    "                                    print('ARIMA%s RMSE=%.3f' % (order,rmse))\n",
    "                                except:\n",
    "                                    continue\n",
    "    print('Best ARIMA%s RMSE=%.3f' % (best_cfg, best_score))\n",
    "    return best_cfg \n",
    "    \n",
    "best_cfg = sarima_best_params()"
   ]
  },
  {
   "cell_type": "code",
   "execution_count": null,
   "metadata": {
    "scrolled": true
   },
   "outputs": [],
   "source": [
    "print(best_cfg)\n",
    "sarima(*best_cfg)"
   ]
  },
  {
   "cell_type": "code",
   "execution_count": null,
   "metadata": {},
   "outputs": [],
   "source": [
    "plot(method = \"SARIMA\")"
   ]
  },
  {
   "cell_type": "markdown",
   "metadata": {},
   "source": [
    "# Seasonal ARIMA using Pmdarima Library"
   ]
  },
  {
   "cell_type": "code",
   "execution_count": null,
   "metadata": {},
   "outputs": [],
   "source": [
    "def auto_sarima(m, max_p= 3, max_q= 3, max_P=3 , max_Q=3  ,method = \"Auto_SARIMA\"):\n",
    "    model = pmd.auto_arima(train[time_dependent_variable], \n",
    "                               start_p=1, start_q=1,\n",
    "                                max_p=max_p, max_q=max_q, seasonal=True, start_P=1,\n",
    "                                start_Q=1, max_P=max_P, max_D=7, max_Q=max_Q, m=m,\n",
    "                                d=None, D=None, trace=True, error_action='ignore', \n",
    "                                suppress_warnings=True,\n",
    "                                stepwise=True)\n",
    "\n",
    "    \n",
    "    \n",
    "    print(\"\\n\\n\\n\\n\")\n",
    "    print(\"ARIMA Model Summary is : \")\n",
    "    print(model.summary())\n",
    "    print(\"\\n\\n\\n\\n\")\n",
    "    \n",
    "    y_hat.loc[:,method] = model.predict(len(test))\n",
    "\n",
    "    print(\"Test Dataset After Forecast: \")\n",
    "    print(y_hat.head(5))\n",
    "    print(\"\\n\\n\\n\\n\")\n",
    "#     arima_model.plot_diagnostics()\n",
    "    \n",
    "    rmse = sqrt(mean_squared_error(test[time_dependent_variable], y_hat[method]))\n",
    "    print(\"rmse = \" + str(rmse))\n",
    "    return rmse\n",
    "auto_sarima(m = 7)"
   ]
  },
  {
   "cell_type": "code",
   "execution_count": null,
   "metadata": {},
   "outputs": [],
   "source": [
    "# for m in [1, 4,7,12,52]:\n",
    "#     print(\"=\"*100)\n",
    "#     print(f' Fitting SARIMA for Seasonal value m = {str(m)}')\n",
    "#     auto_sarima(method = \"Auto_SARIMA\")\n",
    "def auto_sarima_best_seasonal_params():\n",
    "    best_score, best_cfg = float(\"inf\"), None\n",
    "    for m in [1, 4,7,12,52]:\n",
    "        print(\"=\"*100)\n",
    "        print(f' Fitting SARIMA for Seasonal value m = {str(m)}')\n",
    "        order = m\n",
    "        try:\n",
    "            rmse = auto_sarima(m= m)\n",
    "            if rmse < best_score:\n",
    "                best_score, best_cfg = rmse, order\n",
    "            print('SARIMA%s RMSE=%.3f' % (order,rmse))\n",
    "        except:\n",
    "            continue\n",
    "    print('Best SARIMA%s RMSE=%.3f' % (best_cfg, best_score))\n",
    "    return best_cfg\n",
    "    \n",
    "best_cfg = auto_sarima_best_seasonal_params()\n"
   ]
  },
  {
   "cell_type": "code",
   "execution_count": null,
   "metadata": {},
   "outputs": [],
   "source": [
    "auto_sarima(m= best_cfg)"
   ]
  },
  {
   "cell_type": "code",
   "execution_count": null,
   "metadata": {},
   "outputs": [],
   "source": [
    "plot(method=  \"Auto_SARIMA\")"
   ]
  },
  {
   "cell_type": "markdown",
   "metadata": {},
   "source": [
    "# Extra Regressors Effect"
   ]
  },
  {
   "cell_type": "markdown",
   "metadata": {},
   "source": [
    "# ARX"
   ]
  },
  {
   "cell_type": "code",
   "execution_count": null,
   "metadata": {},
   "outputs": [],
   "source": []
  },
  {
   "cell_type": "markdown",
   "metadata": {},
   "source": [
    "Adding time based features\n"
   ]
  },
  {
   "cell_type": "code",
   "execution_count": null,
   "metadata": {},
   "outputs": [],
   "source": [
    "def date_features(df):\n",
    "    \n",
    "\n",
    "    \n",
    "    df['month'] = df[time_column].dt.month\n",
    "    df['year'] = df[time_column].dt.year\n",
    "    #df['dayofweek'] = df[time_column].dt.strftime('%A')\n",
    "    df['week_day'] = df[time_column].dt.weekday\n",
    "    df['quarter'] = df[time_column].dt.quarter\n",
    "    df['dayofyear'] = df[time_column].dt.dayofyear\n",
    "    df['dayofmonth'] = df[time_column].dt.day\n",
    "    df['weekofyear'] = df[time_column].dt.weekofyear\n",
    "    \n",
    "\n",
    "    return df\n",
    "df= date_features(df)"
   ]
  },
  {
   "cell_type": "markdown",
   "metadata": {},
   "source": [
    "Reordering the columns such that target column (time_depenedent_variable) is set as the last column in the dataset"
   ]
  },
  {
   "cell_type": "code",
   "execution_count": null,
   "metadata": {},
   "outputs": [],
   "source": [
    "def column_reorder(df):\n",
    "    df = df[[ col for col in df.columns if col != time_dependent_variable] + [time_dependent_variable]]\n",
    "    return df\n",
    "df = column_reorder(df)"
   ]
  },
  {
   "cell_type": "code",
   "execution_count": null,
   "metadata": {},
   "outputs": [],
   "source": [
    "train, test = train_test_split_perc(df)\n",
    "train_X, train_Y = train.iloc[:, 1:-1], train.iloc[:, -1]\n",
    "test_X, test_Y = test.iloc[:, 1:-1], test.iloc[:, -1]\n",
    "train_X.head()"
   ]
  },
  {
   "cell_type": "markdown",
   "metadata": {},
   "source": [
    "# SARIMAX"
   ]
  },
  {
   "cell_type": "code",
   "execution_count": null,
   "metadata": {},
   "outputs": [],
   "source": [
    "from statsmodels.tsa.statespace.sarimax import SARIMAX\n",
    "def sarimax(p,d,q, P=0,D=0,Q=0,M=7):\n",
    "\n",
    "\n",
    "    \n",
    "    model = SARIMAX(train[time_dependent_variable], exog=train_X, order=(p,d,q),  seasonal_order=(P,D,Q,M))\n",
    "    fit1 = model.fit()\n",
    "    print(fit1.summary())\n",
    "    y_hat['SARIMAX'] = fit1.predict(start=len(train), end=len(train)+len(test)-1,exog= test_X, dynamic=False, typ='levels',start_params=[0, 0, 0, 0, 0, 1])\n",
    "    \n",
    "    rmse = sqrt(mean_squared_error(test[time_dependent_variable], y_hat.SARIMAX))\n",
    "    return rmse\n",
    "sarimax(1, 1, 1, 1, 1, 3)"
   ]
  },
  {
   "cell_type": "code",
   "execution_count": null,
   "metadata": {},
   "outputs": [],
   "source": [
    "plot(method= 'SARIMAX' )"
   ]
  },
  {
   "cell_type": "markdown",
   "metadata": {},
   "source": [
    "# SARIMAX with pmdarima Library"
   ]
  },
  {
   "cell_type": "code",
   "execution_count": null,
   "metadata": {},
   "outputs": [],
   "source": [
    "def auto_sarimax(m, max_p= 3, max_q= 3, max_P=3 , max_Q=3  ,method = \"Auto_SARIMAX\"):\n",
    "    model = pmd.auto_arima(train[time_dependent_variable], \n",
    "                               start_p=1, start_q=1,\n",
    "                                max_p=max_p, max_q=max_q, exogeneous = train_X, seasonal=True, start_P=1,\n",
    "                                start_Q=1, max_P=max_P, max_D=7, max_Q=max_Q, m=m,\n",
    "                                d=None, D=None, trace=True, error_action='ignore', \n",
    "                                suppress_warnings=True,\n",
    "                                stepwise=True)\n",
    "\n",
    "    \n",
    "    \n",
    "    print(\"\\n\\n\\n\\n\")\n",
    "    print(method+ \" Model Summary is : \")\n",
    "    print(model.summary())\n",
    "    print(\"\\n\\n\\n\\n\")\n",
    "    \n",
    "    y_hat.loc[:,method] = model.predict(len(test), exogeneous = train_Y)\n",
    "\n",
    "    print(\"Test Dataset After Forecast: \")\n",
    "    print(y_hat.head(5))\n",
    "    print(\"\\n\\n\\n\\n\")\n",
    "#     arima_model.plot_diagnostics()\n",
    "    \n",
    "    rmse = sqrt(mean_squared_error(test[time_dependent_variable], y_hat[method]))\n",
    "    print(\"rmse = \" + str(rmse))\n",
    "    return rmse\n",
    "auto_sarimax(m = 7)"
   ]
  },
  {
   "cell_type": "code",
   "execution_count": null,
   "metadata": {},
   "outputs": [],
   "source": [
    "plot(method = \"Auto_SARIMAX\")"
   ]
  },
  {
   "cell_type": "code",
   "execution_count": null,
   "metadata": {},
   "outputs": [],
   "source": [
    "import xgboost as xgb\n",
    "from xgboost import plot_importance, plot_tree"
   ]
  },
  {
   "cell_type": "code",
   "execution_count": null,
   "metadata": {},
   "outputs": [],
   "source": [
    "def xgboost(method= \"Xgboost\"):\n",
    "    \n",
    "    reg = xgb.XGBRegressor(n_estimators=50)\n",
    "    reg.fit(train_X, train_Y,\n",
    "            eval_set=[(train_X, train_Y), (test_X, test_Y )],\n",
    "            early_stopping_rounds=5,\n",
    "           verbose=False)\n",
    "    \n",
    "    y_hat[method] = reg.predict(test_X)\n",
    "    _ = plot_importance(reg, height=0.9)\n",
    "    plot(method= \"Xgboost\")\n",
    "xgboost(method= \"Xgboost\")"
   ]
  },
  {
   "cell_type": "code",
   "execution_count": null,
   "metadata": {},
   "outputs": [],
   "source": []
  },
  {
   "cell_type": "code",
   "execution_count": null,
   "metadata": {},
   "outputs": [],
   "source": []
  }
 ],
 "metadata": {
  "kernelspec": {
   "display_name": "Python 3",
   "language": "python",
   "name": "python3"
  },
  "language_info": {
   "codemirror_mode": {
    "name": "ipython",
    "version": 3
   },
   "file_extension": ".py",
   "mimetype": "text/x-python",
   "name": "python",
   "nbconvert_exporter": "python",
   "pygments_lexer": "ipython3",
   "version": "3.8.8"
  }
 },
 "nbformat": 4,
 "nbformat_minor": 2
}
